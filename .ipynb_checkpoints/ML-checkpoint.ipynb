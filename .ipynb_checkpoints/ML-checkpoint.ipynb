{
 "cells": [
  {
   "cell_type": "code",
   "execution_count": 1,
   "metadata": {
    "id": "BWoszJ2Fm7hT"
   },
   "outputs": [],
   "source": [
    "import warnings\n",
    "warnings.filterwarnings('ignore')\n",
    "import os\n",
    "import sys\n",
    "import pickle\n",
    "from ipywidgets import interact\n",
    "from collections import Counter\n",
    "import time\n",
    "import numpy as np\n",
    "import pandas as pd\n",
    "import matplotlib\n",
    "import matplotlib.pyplot as plt\n",
    "import seaborn as sns\n",
    "import sklearn                       \n",
    "from sklearn import datasets\n",
    "from sklearn.preprocessing import StandardScaler\n",
    "from sklearn.decomposition import PCA\n",
    "from sklearn import svm\n",
    "from sklearn.svm import SVC\n",
    "from sklearn.linear_model import LogisticRegression\n",
    "from sklearn.model_selection import train_test_split, cross_val_predict, RepeatedStratifiedKFold, GridSearchCV\n",
    "from sklearn.metrics import accuracy_score, f1_score, recall_score, precision_score\n",
    "from sklearn.metrics import confusion_matrix, classification_report\n",
    "from sklearn.tree import DecisionTreeClassifier\n",
    "from sklearn.ensemble import RandomForestClassifier\n",
    "from sklearn.model_selection import RandomizedSearchCV\n",
    "from scipy.stats import randint\n",
    "from sklearn.neighbors import KNeighborsClassifier\n",
    "from sklearn import tree\n",
    "import imblearn\n",
    "from imblearn.over_sampling import SMOTE\n",
    "np.random.seed(1)"
   ]
  },
  {
   "cell_type": "markdown",
   "metadata": {},
   "source": [
    "### EDA :"
   ]
  },
  {
   "cell_type": "code",
   "execution_count": 2,
   "metadata": {
    "colab": {
     "base_uri": "https://localhost:8080/",
     "height": 206
    },
    "id": "uXA9aKbQnLRY",
    "outputId": "59632106-4913-410d-f346-0534682a36c7"
   },
   "outputs": [
    {
     "data": {
      "text/html": [
       "<div>\n",
       "<style scoped>\n",
       "    .dataframe tbody tr th:only-of-type {\n",
       "        vertical-align: middle;\n",
       "    }\n",
       "\n",
       "    .dataframe tbody tr th {\n",
       "        vertical-align: top;\n",
       "    }\n",
       "\n",
       "    .dataframe thead th {\n",
       "        text-align: right;\n",
       "    }\n",
       "</style>\n",
       "<table border=\"1\" class=\"dataframe\">\n",
       "  <thead>\n",
       "    <tr style=\"text-align: right;\">\n",
       "      <th></th>\n",
       "      <th>gender</th>\n",
       "      <th>age</th>\n",
       "      <th>hypertension</th>\n",
       "      <th>heart_disease</th>\n",
       "      <th>ever_married</th>\n",
       "      <th>work_type</th>\n",
       "      <th>Residence_type</th>\n",
       "      <th>avg_glucose_level</th>\n",
       "      <th>bmi</th>\n",
       "      <th>smoking_status</th>\n",
       "      <th>stroke</th>\n",
       "    </tr>\n",
       "  </thead>\n",
       "  <tbody>\n",
       "    <tr>\n",
       "      <th>0</th>\n",
       "      <td>Male</td>\n",
       "      <td>67.0</td>\n",
       "      <td>0</td>\n",
       "      <td>1</td>\n",
       "      <td>Yes</td>\n",
       "      <td>Private</td>\n",
       "      <td>Urban</td>\n",
       "      <td>228.69</td>\n",
       "      <td>36.6</td>\n",
       "      <td>formerly smoked</td>\n",
       "      <td>1</td>\n",
       "    </tr>\n",
       "    <tr>\n",
       "      <th>1</th>\n",
       "      <td>Male</td>\n",
       "      <td>80.0</td>\n",
       "      <td>0</td>\n",
       "      <td>1</td>\n",
       "      <td>Yes</td>\n",
       "      <td>Private</td>\n",
       "      <td>Rural</td>\n",
       "      <td>105.92</td>\n",
       "      <td>32.5</td>\n",
       "      <td>never smoked</td>\n",
       "      <td>1</td>\n",
       "    </tr>\n",
       "    <tr>\n",
       "      <th>2</th>\n",
       "      <td>Female</td>\n",
       "      <td>49.0</td>\n",
       "      <td>0</td>\n",
       "      <td>0</td>\n",
       "      <td>Yes</td>\n",
       "      <td>Private</td>\n",
       "      <td>Urban</td>\n",
       "      <td>171.23</td>\n",
       "      <td>34.4</td>\n",
       "      <td>smokes</td>\n",
       "      <td>1</td>\n",
       "    </tr>\n",
       "    <tr>\n",
       "      <th>3</th>\n",
       "      <td>Female</td>\n",
       "      <td>79.0</td>\n",
       "      <td>1</td>\n",
       "      <td>0</td>\n",
       "      <td>Yes</td>\n",
       "      <td>Self-employed</td>\n",
       "      <td>Rural</td>\n",
       "      <td>174.12</td>\n",
       "      <td>24.0</td>\n",
       "      <td>never smoked</td>\n",
       "      <td>1</td>\n",
       "    </tr>\n",
       "    <tr>\n",
       "      <th>4</th>\n",
       "      <td>Male</td>\n",
       "      <td>81.0</td>\n",
       "      <td>0</td>\n",
       "      <td>0</td>\n",
       "      <td>Yes</td>\n",
       "      <td>Private</td>\n",
       "      <td>Urban</td>\n",
       "      <td>186.21</td>\n",
       "      <td>29.0</td>\n",
       "      <td>formerly smoked</td>\n",
       "      <td>1</td>\n",
       "    </tr>\n",
       "  </tbody>\n",
       "</table>\n",
       "</div>"
      ],
      "text/plain": [
       "   gender   age  hypertension  heart_disease ever_married      work_type  \\\n",
       "0    Male  67.0             0              1          Yes        Private   \n",
       "1    Male  80.0             0              1          Yes        Private   \n",
       "2  Female  49.0             0              0          Yes        Private   \n",
       "3  Female  79.0             1              0          Yes  Self-employed   \n",
       "4    Male  81.0             0              0          Yes        Private   \n",
       "\n",
       "  Residence_type  avg_glucose_level   bmi   smoking_status  stroke  \n",
       "0          Urban             228.69  36.6  formerly smoked       1  \n",
       "1          Rural             105.92  32.5     never smoked       1  \n",
       "2          Urban             171.23  34.4           smokes       1  \n",
       "3          Rural             174.12  24.0     never smoked       1  \n",
       "4          Urban             186.21  29.0  formerly smoked       1  "
      ]
     },
     "execution_count": 2,
     "metadata": {},
     "output_type": "execute_result"
    }
   ],
   "source": [
    "df = pd.read_csv('full_data.csv')\n",
    "df.head()"
   ]
  },
  {
   "cell_type": "code",
   "execution_count": 3,
   "metadata": {
    "colab": {
     "base_uri": "https://localhost:8080/",
     "height": 206
    },
    "id": "zzZ5w_mzobMP",
    "outputId": "99360a55-3f81-46f2-92b7-5df183d76e5f"
   },
   "outputs": [
    {
     "data": {
      "text/html": [
       "<div>\n",
       "<style scoped>\n",
       "    .dataframe tbody tr th:only-of-type {\n",
       "        vertical-align: middle;\n",
       "    }\n",
       "\n",
       "    .dataframe tbody tr th {\n",
       "        vertical-align: top;\n",
       "    }\n",
       "\n",
       "    .dataframe thead th {\n",
       "        text-align: right;\n",
       "    }\n",
       "</style>\n",
       "<table border=\"1\" class=\"dataframe\">\n",
       "  <thead>\n",
       "    <tr style=\"text-align: right;\">\n",
       "      <th></th>\n",
       "      <th>gender</th>\n",
       "      <th>age</th>\n",
       "      <th>hypertension</th>\n",
       "      <th>heart_disease</th>\n",
       "      <th>ever_married</th>\n",
       "      <th>work_type</th>\n",
       "      <th>Residence_type</th>\n",
       "      <th>avg_glucose_level</th>\n",
       "      <th>bmi</th>\n",
       "      <th>smoking_status</th>\n",
       "      <th>stroke</th>\n",
       "    </tr>\n",
       "  </thead>\n",
       "  <tbody>\n",
       "    <tr>\n",
       "      <th>4976</th>\n",
       "      <td>Male</td>\n",
       "      <td>41.0</td>\n",
       "      <td>0</td>\n",
       "      <td>0</td>\n",
       "      <td>No</td>\n",
       "      <td>Private</td>\n",
       "      <td>Rural</td>\n",
       "      <td>70.15</td>\n",
       "      <td>29.8</td>\n",
       "      <td>formerly smoked</td>\n",
       "      <td>0</td>\n",
       "    </tr>\n",
       "    <tr>\n",
       "      <th>4977</th>\n",
       "      <td>Male</td>\n",
       "      <td>40.0</td>\n",
       "      <td>0</td>\n",
       "      <td>0</td>\n",
       "      <td>Yes</td>\n",
       "      <td>Private</td>\n",
       "      <td>Urban</td>\n",
       "      <td>191.15</td>\n",
       "      <td>31.1</td>\n",
       "      <td>smokes</td>\n",
       "      <td>0</td>\n",
       "    </tr>\n",
       "    <tr>\n",
       "      <th>4978</th>\n",
       "      <td>Female</td>\n",
       "      <td>45.0</td>\n",
       "      <td>1</td>\n",
       "      <td>0</td>\n",
       "      <td>Yes</td>\n",
       "      <td>Govt_job</td>\n",
       "      <td>Rural</td>\n",
       "      <td>95.02</td>\n",
       "      <td>31.8</td>\n",
       "      <td>smokes</td>\n",
       "      <td>0</td>\n",
       "    </tr>\n",
       "    <tr>\n",
       "      <th>4979</th>\n",
       "      <td>Male</td>\n",
       "      <td>40.0</td>\n",
       "      <td>0</td>\n",
       "      <td>0</td>\n",
       "      <td>Yes</td>\n",
       "      <td>Private</td>\n",
       "      <td>Rural</td>\n",
       "      <td>83.94</td>\n",
       "      <td>30.0</td>\n",
       "      <td>smokes</td>\n",
       "      <td>0</td>\n",
       "    </tr>\n",
       "    <tr>\n",
       "      <th>4980</th>\n",
       "      <td>Female</td>\n",
       "      <td>80.0</td>\n",
       "      <td>1</td>\n",
       "      <td>0</td>\n",
       "      <td>Yes</td>\n",
       "      <td>Private</td>\n",
       "      <td>Urban</td>\n",
       "      <td>83.75</td>\n",
       "      <td>29.1</td>\n",
       "      <td>never smoked</td>\n",
       "      <td>0</td>\n",
       "    </tr>\n",
       "  </tbody>\n",
       "</table>\n",
       "</div>"
      ],
      "text/plain": [
       "      gender   age  hypertension  heart_disease ever_married work_type  \\\n",
       "4976    Male  41.0             0              0           No   Private   \n",
       "4977    Male  40.0             0              0          Yes   Private   \n",
       "4978  Female  45.0             1              0          Yes  Govt_job   \n",
       "4979    Male  40.0             0              0          Yes   Private   \n",
       "4980  Female  80.0             1              0          Yes   Private   \n",
       "\n",
       "     Residence_type  avg_glucose_level   bmi   smoking_status  stroke  \n",
       "4976          Rural              70.15  29.8  formerly smoked       0  \n",
       "4977          Urban             191.15  31.1           smokes       0  \n",
       "4978          Rural              95.02  31.8           smokes       0  \n",
       "4979          Rural              83.94  30.0           smokes       0  \n",
       "4980          Urban              83.75  29.1     never smoked       0  "
      ]
     },
     "execution_count": 3,
     "metadata": {},
     "output_type": "execute_result"
    }
   ],
   "source": [
    "df.tail()"
   ]
  },
  {
   "cell_type": "code",
   "execution_count": 4,
   "metadata": {
    "colab": {
     "base_uri": "https://localhost:8080/"
    },
    "id": "0Fu04lb3ngPq",
    "outputId": "3c23226b-681a-4131-a621-209aebf3a3f6"
   },
   "outputs": [
    {
     "data": {
      "text/plain": [
       "(4981, 11)"
      ]
     },
     "execution_count": 4,
     "metadata": {},
     "output_type": "execute_result"
    }
   ],
   "source": [
    "df.shape"
   ]
  },
  {
   "cell_type": "code",
   "execution_count": 5,
   "metadata": {
    "colab": {
     "base_uri": "https://localhost:8080/"
    },
    "id": "BpEPZW5VnZVe",
    "outputId": "c0c2d063-7686-498d-dd0d-5a68fd5c7966"
   },
   "outputs": [
    {
     "data": {
      "text/plain": [
       "Index(['gender', 'age', 'hypertension', 'heart_disease', 'ever_married',\n",
       "       'work_type', 'Residence_type', 'avg_glucose_level', 'bmi',\n",
       "       'smoking_status', 'stroke'],\n",
       "      dtype='object')"
      ]
     },
     "execution_count": 5,
     "metadata": {},
     "output_type": "execute_result"
    }
   ],
   "source": [
    "df.columns"
   ]
  },
  {
   "cell_type": "code",
   "execution_count": 6,
   "metadata": {
    "colab": {
     "base_uri": "https://localhost:8080/"
    },
    "id": "MT8qpkTGnuiY",
    "outputId": "d7150cdc-36e4-4122-8d47-c215276aea18"
   },
   "outputs": [
    {
     "data": {
      "text/plain": [
       "gender                object\n",
       "age                  float64\n",
       "hypertension           int64\n",
       "heart_disease          int64\n",
       "ever_married          object\n",
       "work_type             object\n",
       "Residence_type        object\n",
       "avg_glucose_level    float64\n",
       "bmi                  float64\n",
       "smoking_status        object\n",
       "stroke                 int64\n",
       "dtype: object"
      ]
     },
     "execution_count": 6,
     "metadata": {},
     "output_type": "execute_result"
    }
   ],
   "source": [
    "df.dtypes"
   ]
  },
  {
   "cell_type": "code",
   "execution_count": 7,
   "metadata": {
    "colab": {
     "base_uri": "https://localhost:8080/"
    },
    "id": "7mftFOBVn2DN",
    "outputId": "537dfab0-d6d1-416f-e5bf-d93d791525f5"
   },
   "outputs": [
    {
     "name": "stdout",
     "output_type": "stream",
     "text": [
      "<class 'pandas.core.frame.DataFrame'>\n",
      "RangeIndex: 4981 entries, 0 to 4980\n",
      "Data columns (total 11 columns):\n",
      " #   Column             Non-Null Count  Dtype  \n",
      "---  ------             --------------  -----  \n",
      " 0   gender             4981 non-null   object \n",
      " 1   age                4981 non-null   float64\n",
      " 2   hypertension       4981 non-null   int64  \n",
      " 3   heart_disease      4981 non-null   int64  \n",
      " 4   ever_married       4981 non-null   object \n",
      " 5   work_type          4981 non-null   object \n",
      " 6   Residence_type     4981 non-null   object \n",
      " 7   avg_glucose_level  4981 non-null   float64\n",
      " 8   bmi                4981 non-null   float64\n",
      " 9   smoking_status     4981 non-null   object \n",
      " 10  stroke             4981 non-null   int64  \n",
      "dtypes: float64(3), int64(3), object(5)\n",
      "memory usage: 428.2+ KB\n"
     ]
    }
   ],
   "source": [
    "df.info()"
   ]
  },
  {
   "cell_type": "code",
   "execution_count": 8,
   "metadata": {
    "colab": {
     "base_uri": "https://localhost:8080/",
     "height": 300
    },
    "id": "X2_QVjxwoR6W",
    "outputId": "4ec43f51-3620-4f95-b1c5-871ec552a336"
   },
   "outputs": [
    {
     "data": {
      "text/html": [
       "<div>\n",
       "<style scoped>\n",
       "    .dataframe tbody tr th:only-of-type {\n",
       "        vertical-align: middle;\n",
       "    }\n",
       "\n",
       "    .dataframe tbody tr th {\n",
       "        vertical-align: top;\n",
       "    }\n",
       "\n",
       "    .dataframe thead th {\n",
       "        text-align: right;\n",
       "    }\n",
       "</style>\n",
       "<table border=\"1\" class=\"dataframe\">\n",
       "  <thead>\n",
       "    <tr style=\"text-align: right;\">\n",
       "      <th></th>\n",
       "      <th>age</th>\n",
       "      <th>hypertension</th>\n",
       "      <th>heart_disease</th>\n",
       "      <th>avg_glucose_level</th>\n",
       "      <th>bmi</th>\n",
       "      <th>stroke</th>\n",
       "    </tr>\n",
       "  </thead>\n",
       "  <tbody>\n",
       "    <tr>\n",
       "      <th>count</th>\n",
       "      <td>4981.000000</td>\n",
       "      <td>4981.000000</td>\n",
       "      <td>4981.000000</td>\n",
       "      <td>4981.000000</td>\n",
       "      <td>4981.000000</td>\n",
       "      <td>4981.000000</td>\n",
       "    </tr>\n",
       "    <tr>\n",
       "      <th>mean</th>\n",
       "      <td>43.419859</td>\n",
       "      <td>0.096165</td>\n",
       "      <td>0.055210</td>\n",
       "      <td>105.943562</td>\n",
       "      <td>28.498173</td>\n",
       "      <td>0.049789</td>\n",
       "    </tr>\n",
       "    <tr>\n",
       "      <th>std</th>\n",
       "      <td>22.662755</td>\n",
       "      <td>0.294848</td>\n",
       "      <td>0.228412</td>\n",
       "      <td>45.075373</td>\n",
       "      <td>6.790464</td>\n",
       "      <td>0.217531</td>\n",
       "    </tr>\n",
       "    <tr>\n",
       "      <th>min</th>\n",
       "      <td>0.080000</td>\n",
       "      <td>0.000000</td>\n",
       "      <td>0.000000</td>\n",
       "      <td>55.120000</td>\n",
       "      <td>14.000000</td>\n",
       "      <td>0.000000</td>\n",
       "    </tr>\n",
       "    <tr>\n",
       "      <th>25%</th>\n",
       "      <td>25.000000</td>\n",
       "      <td>0.000000</td>\n",
       "      <td>0.000000</td>\n",
       "      <td>77.230000</td>\n",
       "      <td>23.700000</td>\n",
       "      <td>0.000000</td>\n",
       "    </tr>\n",
       "    <tr>\n",
       "      <th>50%</th>\n",
       "      <td>45.000000</td>\n",
       "      <td>0.000000</td>\n",
       "      <td>0.000000</td>\n",
       "      <td>91.850000</td>\n",
       "      <td>28.100000</td>\n",
       "      <td>0.000000</td>\n",
       "    </tr>\n",
       "    <tr>\n",
       "      <th>75%</th>\n",
       "      <td>61.000000</td>\n",
       "      <td>0.000000</td>\n",
       "      <td>0.000000</td>\n",
       "      <td>113.860000</td>\n",
       "      <td>32.600000</td>\n",
       "      <td>0.000000</td>\n",
       "    </tr>\n",
       "    <tr>\n",
       "      <th>max</th>\n",
       "      <td>82.000000</td>\n",
       "      <td>1.000000</td>\n",
       "      <td>1.000000</td>\n",
       "      <td>271.740000</td>\n",
       "      <td>48.900000</td>\n",
       "      <td>1.000000</td>\n",
       "    </tr>\n",
       "  </tbody>\n",
       "</table>\n",
       "</div>"
      ],
      "text/plain": [
       "               age  hypertension  heart_disease  avg_glucose_level  \\\n",
       "count  4981.000000   4981.000000    4981.000000        4981.000000   \n",
       "mean     43.419859      0.096165       0.055210         105.943562   \n",
       "std      22.662755      0.294848       0.228412          45.075373   \n",
       "min       0.080000      0.000000       0.000000          55.120000   \n",
       "25%      25.000000      0.000000       0.000000          77.230000   \n",
       "50%      45.000000      0.000000       0.000000          91.850000   \n",
       "75%      61.000000      0.000000       0.000000         113.860000   \n",
       "max      82.000000      1.000000       1.000000         271.740000   \n",
       "\n",
       "               bmi       stroke  \n",
       "count  4981.000000  4981.000000  \n",
       "mean     28.498173     0.049789  \n",
       "std       6.790464     0.217531  \n",
       "min      14.000000     0.000000  \n",
       "25%      23.700000     0.000000  \n",
       "50%      28.100000     0.000000  \n",
       "75%      32.600000     0.000000  \n",
       "max      48.900000     1.000000  "
      ]
     },
     "execution_count": 8,
     "metadata": {},
     "output_type": "execute_result"
    }
   ],
   "source": [
    "df.describe()"
   ]
  },
  {
   "cell_type": "code",
   "execution_count": 54,
   "metadata": {
    "colab": {
     "base_uri": "https://localhost:8080/"
    },
    "id": "6v_O0K-MoTnn",
    "outputId": "c263b650-deb5-4861-839d-85fd7c045f30"
   },
   "outputs": [
    {
     "data": {
      "text/plain": [
       "<bound method DataFrame.value_counts of       age  hypertension  heart_disease  avg_glucose_level   bmi  stroke  \\\n",
       "1      80             0              1             105.92  32.5       1   \n",
       "5      74             1              1              70.09  27.4       1   \n",
       "6      69             0              0              94.39  22.8       1   \n",
       "7      78             0              0              58.57  24.2       1   \n",
       "8      81             1              0              80.43  29.7       1   \n",
       "...   ...           ...            ...                ...   ...     ...   \n",
       "4974   58             0              0              84.94  30.2       0   \n",
       "4976   41             0              0              70.15  29.8       0   \n",
       "4978   45             1              0              95.02  31.8       0   \n",
       "4979   40             0              0              83.94  30.0       0   \n",
       "4980   80             1              0              83.75  29.1       0   \n",
       "\n",
       "      gender_Female  gender_Male  smoking_status_formerly smoked  \\\n",
       "1                 0            1                               0   \n",
       "5                 0            1                               0   \n",
       "6                 1            0                               0   \n",
       "7                 1            0                               0   \n",
       "8                 1            0                               0   \n",
       "...             ...          ...                             ...   \n",
       "4974              0            1                               0   \n",
       "4976              0            1                               1   \n",
       "4978              1            0                               0   \n",
       "4979              0            1                               0   \n",
       "4980              1            0                               0   \n",
       "\n",
       "      smoking_status_never smoked  smoking_status_smokes  \n",
       "1                               1                      0  \n",
       "5                               1                      0  \n",
       "6                               1                      0  \n",
       "7                               1                      0  \n",
       "8                               1                      0  \n",
       "...                           ...                    ...  \n",
       "4974                            1                      0  \n",
       "4976                            0                      0  \n",
       "4978                            0                      1  \n",
       "4979                            0                      1  \n",
       "4980                            1                      0  \n",
       "\n",
       "[4347 rows x 11 columns]>"
      ]
     },
     "execution_count": 54,
     "metadata": {},
     "output_type": "execute_result"
    }
   ],
   "source": [
    "df.value_counts"
   ]
  },
  {
   "cell_type": "markdown",
   "metadata": {
    "id": "xPajDOFUoqgm"
   },
   "source": [
    "### Preprocessing :\n"
   ]
  },
  {
   "cell_type": "code",
   "execution_count": 10,
   "metadata": {
    "colab": {
     "base_uri": "https://localhost:8080/"
    },
    "id": "yJ9VpwFJouMF",
    "outputId": "405725a4-d595-4f46-d639-0bee6a244799"
   },
   "outputs": [
    {
     "data": {
      "text/plain": [
       "gender               0\n",
       "age                  0\n",
       "hypertension         0\n",
       "heart_disease        0\n",
       "ever_married         0\n",
       "work_type            0\n",
       "Residence_type       0\n",
       "avg_glucose_level    0\n",
       "bmi                  0\n",
       "smoking_status       0\n",
       "stroke               0\n",
       "dtype: int64"
      ]
     },
     "execution_count": 10,
     "metadata": {},
     "output_type": "execute_result"
    }
   ],
   "source": [
    "df.isnull().sum()"
   ]
  },
  {
   "cell_type": "code",
   "execution_count": 11,
   "metadata": {
    "colab": {
     "base_uri": "https://localhost:8080/"
    },
    "id": "soGXm_-kozbP",
    "outputId": "25f7edfe-91ae-4473-9627-6eb774b1a763"
   },
   "outputs": [
    {
     "data": {
      "text/plain": [
       "0"
      ]
     },
     "execution_count": 11,
     "metadata": {},
     "output_type": "execute_result"
    }
   ],
   "source": [
    "df.duplicated().sum()"
   ]
  },
  {
   "cell_type": "markdown",
   "metadata": {},
   "source": []
  },
  {
   "cell_type": "code",
   "execution_count": 40,
   "metadata": {
    "colab": {
     "base_uri": "https://localhost:8080/"
    },
    "id": "evqFH0K5pkax",
    "outputId": "5bc0724e-7275-43fd-ff3c-86c5834da557"
   },
   "outputs": [
    {
     "name": "stdout",
     "output_type": "stream",
     "text": [
      "age                                 int32\n",
      "hypertension                        int64\n",
      "heart_disease                       int64\n",
      "avg_glucose_level                 float64\n",
      "bmi                               float64\n",
      "stroke                              int64\n",
      "gender_Female                       uint8\n",
      "gender_Male                         uint8\n",
      "smoking_status_formerly smoked      uint8\n",
      "smoking_status_never smoked         uint8\n",
      "smoking_status_smokes               uint8\n",
      "dtype: object\n"
     ]
    }
   ],
   "source": [
    "df['age'] = df['age'].astype(int)\n",
    "print(df.dtypes)"
   ]
  },
  {
   "cell_type": "code",
   "execution_count": 13,
   "metadata": {
    "colab": {
     "base_uri": "https://localhost:8080/"
    },
    "id": "U_weqqa9pyC8",
    "outputId": "81b51eaf-3c96-4e5e-893e-f2043996ae8b"
   },
   "outputs": [
    {
     "data": {
      "text/plain": [
       "never smoked       1838\n",
       "Unknown            1500\n",
       "formerly smoked     867\n",
       "smokes              776\n",
       "Name: smoking_status, dtype: int64"
      ]
     },
     "execution_count": 13,
     "metadata": {},
     "output_type": "execute_result"
    }
   ],
   "source": [
    "df['smoking_status'].value_counts()"
   ]
  },
  {
   "cell_type": "code",
   "execution_count": 14,
   "metadata": {
    "id": "gvvkcaXWq0_J"
   },
   "outputs": [],
   "source": [
    "df = df.replace('Unknown', np.nan)"
   ]
  },
  {
   "cell_type": "code",
   "execution_count": 15,
   "metadata": {
    "id": "MMQaYsDSqlUZ"
   },
   "outputs": [],
   "source": [
    "df['smoking_status'].fillna(df['smoking_status'].mode()[0], inplace=True)"
   ]
  },
  {
   "cell_type": "code",
   "execution_count": 16,
   "metadata": {
    "colab": {
     "base_uri": "https://localhost:8080/",
     "height": 478
    },
    "id": "VqSV3840o3Bk",
    "outputId": "5ec4a5f1-949f-4d32-86f0-9d9449a65bbe"
   },
   "outputs": [
    {
     "data": {
      "text/html": [
       "<div>\n",
       "<style scoped>\n",
       "    .dataframe tbody tr th:only-of-type {\n",
       "        vertical-align: middle;\n",
       "    }\n",
       "\n",
       "    .dataframe tbody tr th {\n",
       "        vertical-align: top;\n",
       "    }\n",
       "\n",
       "    .dataframe thead th {\n",
       "        text-align: right;\n",
       "    }\n",
       "</style>\n",
       "<table border=\"1\" class=\"dataframe\">\n",
       "  <thead>\n",
       "    <tr style=\"text-align: right;\">\n",
       "      <th></th>\n",
       "      <th>age</th>\n",
       "      <th>hypertension</th>\n",
       "      <th>heart_disease</th>\n",
       "      <th>ever_married</th>\n",
       "      <th>work_type</th>\n",
       "      <th>Residence_type</th>\n",
       "      <th>avg_glucose_level</th>\n",
       "      <th>bmi</th>\n",
       "      <th>stroke</th>\n",
       "      <th>gender_Female</th>\n",
       "      <th>gender_Male</th>\n",
       "      <th>smoking_status_formerly smoked</th>\n",
       "      <th>smoking_status_never smoked</th>\n",
       "      <th>smoking_status_smokes</th>\n",
       "    </tr>\n",
       "  </thead>\n",
       "  <tbody>\n",
       "    <tr>\n",
       "      <th>0</th>\n",
       "      <td>67</td>\n",
       "      <td>0</td>\n",
       "      <td>1</td>\n",
       "      <td>Yes</td>\n",
       "      <td>Private</td>\n",
       "      <td>Urban</td>\n",
       "      <td>228.69</td>\n",
       "      <td>36.6</td>\n",
       "      <td>1</td>\n",
       "      <td>0</td>\n",
       "      <td>1</td>\n",
       "      <td>1</td>\n",
       "      <td>0</td>\n",
       "      <td>0</td>\n",
       "    </tr>\n",
       "    <tr>\n",
       "      <th>1</th>\n",
       "      <td>80</td>\n",
       "      <td>0</td>\n",
       "      <td>1</td>\n",
       "      <td>Yes</td>\n",
       "      <td>Private</td>\n",
       "      <td>Rural</td>\n",
       "      <td>105.92</td>\n",
       "      <td>32.5</td>\n",
       "      <td>1</td>\n",
       "      <td>0</td>\n",
       "      <td>1</td>\n",
       "      <td>0</td>\n",
       "      <td>1</td>\n",
       "      <td>0</td>\n",
       "    </tr>\n",
       "    <tr>\n",
       "      <th>2</th>\n",
       "      <td>49</td>\n",
       "      <td>0</td>\n",
       "      <td>0</td>\n",
       "      <td>Yes</td>\n",
       "      <td>Private</td>\n",
       "      <td>Urban</td>\n",
       "      <td>171.23</td>\n",
       "      <td>34.4</td>\n",
       "      <td>1</td>\n",
       "      <td>1</td>\n",
       "      <td>0</td>\n",
       "      <td>0</td>\n",
       "      <td>0</td>\n",
       "      <td>1</td>\n",
       "    </tr>\n",
       "    <tr>\n",
       "      <th>3</th>\n",
       "      <td>79</td>\n",
       "      <td>1</td>\n",
       "      <td>0</td>\n",
       "      <td>Yes</td>\n",
       "      <td>Self-employed</td>\n",
       "      <td>Rural</td>\n",
       "      <td>174.12</td>\n",
       "      <td>24.0</td>\n",
       "      <td>1</td>\n",
       "      <td>1</td>\n",
       "      <td>0</td>\n",
       "      <td>0</td>\n",
       "      <td>1</td>\n",
       "      <td>0</td>\n",
       "    </tr>\n",
       "    <tr>\n",
       "      <th>4</th>\n",
       "      <td>81</td>\n",
       "      <td>0</td>\n",
       "      <td>0</td>\n",
       "      <td>Yes</td>\n",
       "      <td>Private</td>\n",
       "      <td>Urban</td>\n",
       "      <td>186.21</td>\n",
       "      <td>29.0</td>\n",
       "      <td>1</td>\n",
       "      <td>0</td>\n",
       "      <td>1</td>\n",
       "      <td>1</td>\n",
       "      <td>0</td>\n",
       "      <td>0</td>\n",
       "    </tr>\n",
       "    <tr>\n",
       "      <th>...</th>\n",
       "      <td>...</td>\n",
       "      <td>...</td>\n",
       "      <td>...</td>\n",
       "      <td>...</td>\n",
       "      <td>...</td>\n",
       "      <td>...</td>\n",
       "      <td>...</td>\n",
       "      <td>...</td>\n",
       "      <td>...</td>\n",
       "      <td>...</td>\n",
       "      <td>...</td>\n",
       "      <td>...</td>\n",
       "      <td>...</td>\n",
       "      <td>...</td>\n",
       "    </tr>\n",
       "    <tr>\n",
       "      <th>4976</th>\n",
       "      <td>41</td>\n",
       "      <td>0</td>\n",
       "      <td>0</td>\n",
       "      <td>No</td>\n",
       "      <td>Private</td>\n",
       "      <td>Rural</td>\n",
       "      <td>70.15</td>\n",
       "      <td>29.8</td>\n",
       "      <td>0</td>\n",
       "      <td>0</td>\n",
       "      <td>1</td>\n",
       "      <td>1</td>\n",
       "      <td>0</td>\n",
       "      <td>0</td>\n",
       "    </tr>\n",
       "    <tr>\n",
       "      <th>4977</th>\n",
       "      <td>40</td>\n",
       "      <td>0</td>\n",
       "      <td>0</td>\n",
       "      <td>Yes</td>\n",
       "      <td>Private</td>\n",
       "      <td>Urban</td>\n",
       "      <td>191.15</td>\n",
       "      <td>31.1</td>\n",
       "      <td>0</td>\n",
       "      <td>0</td>\n",
       "      <td>1</td>\n",
       "      <td>0</td>\n",
       "      <td>0</td>\n",
       "      <td>1</td>\n",
       "    </tr>\n",
       "    <tr>\n",
       "      <th>4978</th>\n",
       "      <td>45</td>\n",
       "      <td>1</td>\n",
       "      <td>0</td>\n",
       "      <td>Yes</td>\n",
       "      <td>Govt_job</td>\n",
       "      <td>Rural</td>\n",
       "      <td>95.02</td>\n",
       "      <td>31.8</td>\n",
       "      <td>0</td>\n",
       "      <td>1</td>\n",
       "      <td>0</td>\n",
       "      <td>0</td>\n",
       "      <td>0</td>\n",
       "      <td>1</td>\n",
       "    </tr>\n",
       "    <tr>\n",
       "      <th>4979</th>\n",
       "      <td>40</td>\n",
       "      <td>0</td>\n",
       "      <td>0</td>\n",
       "      <td>Yes</td>\n",
       "      <td>Private</td>\n",
       "      <td>Rural</td>\n",
       "      <td>83.94</td>\n",
       "      <td>30.0</td>\n",
       "      <td>0</td>\n",
       "      <td>0</td>\n",
       "      <td>1</td>\n",
       "      <td>0</td>\n",
       "      <td>0</td>\n",
       "      <td>1</td>\n",
       "    </tr>\n",
       "    <tr>\n",
       "      <th>4980</th>\n",
       "      <td>80</td>\n",
       "      <td>1</td>\n",
       "      <td>0</td>\n",
       "      <td>Yes</td>\n",
       "      <td>Private</td>\n",
       "      <td>Urban</td>\n",
       "      <td>83.75</td>\n",
       "      <td>29.1</td>\n",
       "      <td>0</td>\n",
       "      <td>1</td>\n",
       "      <td>0</td>\n",
       "      <td>0</td>\n",
       "      <td>1</td>\n",
       "      <td>0</td>\n",
       "    </tr>\n",
       "  </tbody>\n",
       "</table>\n",
       "<p>4981 rows × 14 columns</p>\n",
       "</div>"
      ],
      "text/plain": [
       "      age  hypertension  heart_disease ever_married      work_type  \\\n",
       "0      67             0              1          Yes        Private   \n",
       "1      80             0              1          Yes        Private   \n",
       "2      49             0              0          Yes        Private   \n",
       "3      79             1              0          Yes  Self-employed   \n",
       "4      81             0              0          Yes        Private   \n",
       "...   ...           ...            ...          ...            ...   \n",
       "4976   41             0              0           No        Private   \n",
       "4977   40             0              0          Yes        Private   \n",
       "4978   45             1              0          Yes       Govt_job   \n",
       "4979   40             0              0          Yes        Private   \n",
       "4980   80             1              0          Yes        Private   \n",
       "\n",
       "     Residence_type  avg_glucose_level   bmi  stroke  gender_Female  \\\n",
       "0             Urban             228.69  36.6       1              0   \n",
       "1             Rural             105.92  32.5       1              0   \n",
       "2             Urban             171.23  34.4       1              1   \n",
       "3             Rural             174.12  24.0       1              1   \n",
       "4             Urban             186.21  29.0       1              0   \n",
       "...             ...                ...   ...     ...            ...   \n",
       "4976          Rural              70.15  29.8       0              0   \n",
       "4977          Urban             191.15  31.1       0              0   \n",
       "4978          Rural              95.02  31.8       0              1   \n",
       "4979          Rural              83.94  30.0       0              0   \n",
       "4980          Urban              83.75  29.1       0              1   \n",
       "\n",
       "      gender_Male  smoking_status_formerly smoked  \\\n",
       "0               1                               1   \n",
       "1               1                               0   \n",
       "2               0                               0   \n",
       "3               0                               0   \n",
       "4               1                               1   \n",
       "...           ...                             ...   \n",
       "4976            1                               1   \n",
       "4977            1                               0   \n",
       "4978            0                               0   \n",
       "4979            1                               0   \n",
       "4980            0                               0   \n",
       "\n",
       "      smoking_status_never smoked  smoking_status_smokes  \n",
       "0                               0                      0  \n",
       "1                               1                      0  \n",
       "2                               0                      1  \n",
       "3                               1                      0  \n",
       "4                               0                      0  \n",
       "...                           ...                    ...  \n",
       "4976                            0                      0  \n",
       "4977                            0                      1  \n",
       "4978                            0                      1  \n",
       "4979                            0                      1  \n",
       "4980                            1                      0  \n",
       "\n",
       "[4981 rows x 14 columns]"
      ]
     },
     "execution_count": 16,
     "metadata": {},
     "output_type": "execute_result"
    }
   ],
   "source": [
    "cat_columns = ['gender', 'smoking_status']\n",
    "df = pd.get_dummies(df, columns = cat_columns)\n",
    "df"
   ]
  },
  {
   "cell_type": "code",
   "execution_count": 17,
   "metadata": {
    "colab": {
     "base_uri": "https://localhost:8080/",
     "height": 461
    },
    "id": "XOIXF9GWpZ0E",
    "outputId": "faf70426-fe96-467c-bc13-d2daf01e9a94"
   },
   "outputs": [
    {
     "data": {
      "text/html": [
       "<div>\n",
       "<style scoped>\n",
       "    .dataframe tbody tr th:only-of-type {\n",
       "        vertical-align: middle;\n",
       "    }\n",
       "\n",
       "    .dataframe tbody tr th {\n",
       "        vertical-align: top;\n",
       "    }\n",
       "\n",
       "    .dataframe thead th {\n",
       "        text-align: right;\n",
       "    }\n",
       "</style>\n",
       "<table border=\"1\" class=\"dataframe\">\n",
       "  <thead>\n",
       "    <tr style=\"text-align: right;\">\n",
       "      <th></th>\n",
       "      <th>age</th>\n",
       "      <th>hypertension</th>\n",
       "      <th>heart_disease</th>\n",
       "      <th>avg_glucose_level</th>\n",
       "      <th>bmi</th>\n",
       "      <th>stroke</th>\n",
       "      <th>gender_Female</th>\n",
       "      <th>gender_Male</th>\n",
       "      <th>smoking_status_formerly smoked</th>\n",
       "      <th>smoking_status_never smoked</th>\n",
       "      <th>smoking_status_smokes</th>\n",
       "    </tr>\n",
       "  </thead>\n",
       "  <tbody>\n",
       "    <tr>\n",
       "      <th>0</th>\n",
       "      <td>67</td>\n",
       "      <td>0</td>\n",
       "      <td>1</td>\n",
       "      <td>228.69</td>\n",
       "      <td>36.6</td>\n",
       "      <td>1</td>\n",
       "      <td>0</td>\n",
       "      <td>1</td>\n",
       "      <td>1</td>\n",
       "      <td>0</td>\n",
       "      <td>0</td>\n",
       "    </tr>\n",
       "    <tr>\n",
       "      <th>1</th>\n",
       "      <td>80</td>\n",
       "      <td>0</td>\n",
       "      <td>1</td>\n",
       "      <td>105.92</td>\n",
       "      <td>32.5</td>\n",
       "      <td>1</td>\n",
       "      <td>0</td>\n",
       "      <td>1</td>\n",
       "      <td>0</td>\n",
       "      <td>1</td>\n",
       "      <td>0</td>\n",
       "    </tr>\n",
       "    <tr>\n",
       "      <th>2</th>\n",
       "      <td>49</td>\n",
       "      <td>0</td>\n",
       "      <td>0</td>\n",
       "      <td>171.23</td>\n",
       "      <td>34.4</td>\n",
       "      <td>1</td>\n",
       "      <td>1</td>\n",
       "      <td>0</td>\n",
       "      <td>0</td>\n",
       "      <td>0</td>\n",
       "      <td>1</td>\n",
       "    </tr>\n",
       "    <tr>\n",
       "      <th>3</th>\n",
       "      <td>79</td>\n",
       "      <td>1</td>\n",
       "      <td>0</td>\n",
       "      <td>174.12</td>\n",
       "      <td>24.0</td>\n",
       "      <td>1</td>\n",
       "      <td>1</td>\n",
       "      <td>0</td>\n",
       "      <td>0</td>\n",
       "      <td>1</td>\n",
       "      <td>0</td>\n",
       "    </tr>\n",
       "    <tr>\n",
       "      <th>4</th>\n",
       "      <td>81</td>\n",
       "      <td>0</td>\n",
       "      <td>0</td>\n",
       "      <td>186.21</td>\n",
       "      <td>29.0</td>\n",
       "      <td>1</td>\n",
       "      <td>0</td>\n",
       "      <td>1</td>\n",
       "      <td>1</td>\n",
       "      <td>0</td>\n",
       "      <td>0</td>\n",
       "    </tr>\n",
       "    <tr>\n",
       "      <th>...</th>\n",
       "      <td>...</td>\n",
       "      <td>...</td>\n",
       "      <td>...</td>\n",
       "      <td>...</td>\n",
       "      <td>...</td>\n",
       "      <td>...</td>\n",
       "      <td>...</td>\n",
       "      <td>...</td>\n",
       "      <td>...</td>\n",
       "      <td>...</td>\n",
       "      <td>...</td>\n",
       "    </tr>\n",
       "    <tr>\n",
       "      <th>4976</th>\n",
       "      <td>41</td>\n",
       "      <td>0</td>\n",
       "      <td>0</td>\n",
       "      <td>70.15</td>\n",
       "      <td>29.8</td>\n",
       "      <td>0</td>\n",
       "      <td>0</td>\n",
       "      <td>1</td>\n",
       "      <td>1</td>\n",
       "      <td>0</td>\n",
       "      <td>0</td>\n",
       "    </tr>\n",
       "    <tr>\n",
       "      <th>4977</th>\n",
       "      <td>40</td>\n",
       "      <td>0</td>\n",
       "      <td>0</td>\n",
       "      <td>191.15</td>\n",
       "      <td>31.1</td>\n",
       "      <td>0</td>\n",
       "      <td>0</td>\n",
       "      <td>1</td>\n",
       "      <td>0</td>\n",
       "      <td>0</td>\n",
       "      <td>1</td>\n",
       "    </tr>\n",
       "    <tr>\n",
       "      <th>4978</th>\n",
       "      <td>45</td>\n",
       "      <td>1</td>\n",
       "      <td>0</td>\n",
       "      <td>95.02</td>\n",
       "      <td>31.8</td>\n",
       "      <td>0</td>\n",
       "      <td>1</td>\n",
       "      <td>0</td>\n",
       "      <td>0</td>\n",
       "      <td>0</td>\n",
       "      <td>1</td>\n",
       "    </tr>\n",
       "    <tr>\n",
       "      <th>4979</th>\n",
       "      <td>40</td>\n",
       "      <td>0</td>\n",
       "      <td>0</td>\n",
       "      <td>83.94</td>\n",
       "      <td>30.0</td>\n",
       "      <td>0</td>\n",
       "      <td>0</td>\n",
       "      <td>1</td>\n",
       "      <td>0</td>\n",
       "      <td>0</td>\n",
       "      <td>1</td>\n",
       "    </tr>\n",
       "    <tr>\n",
       "      <th>4980</th>\n",
       "      <td>80</td>\n",
       "      <td>1</td>\n",
       "      <td>0</td>\n",
       "      <td>83.75</td>\n",
       "      <td>29.1</td>\n",
       "      <td>0</td>\n",
       "      <td>1</td>\n",
       "      <td>0</td>\n",
       "      <td>0</td>\n",
       "      <td>1</td>\n",
       "      <td>0</td>\n",
       "    </tr>\n",
       "  </tbody>\n",
       "</table>\n",
       "<p>4981 rows × 11 columns</p>\n",
       "</div>"
      ],
      "text/plain": [
       "      age  hypertension  heart_disease  avg_glucose_level   bmi  stroke  \\\n",
       "0      67             0              1             228.69  36.6       1   \n",
       "1      80             0              1             105.92  32.5       1   \n",
       "2      49             0              0             171.23  34.4       1   \n",
       "3      79             1              0             174.12  24.0       1   \n",
       "4      81             0              0             186.21  29.0       1   \n",
       "...   ...           ...            ...                ...   ...     ...   \n",
       "4976   41             0              0              70.15  29.8       0   \n",
       "4977   40             0              0             191.15  31.1       0   \n",
       "4978   45             1              0              95.02  31.8       0   \n",
       "4979   40             0              0              83.94  30.0       0   \n",
       "4980   80             1              0              83.75  29.1       0   \n",
       "\n",
       "      gender_Female  gender_Male  smoking_status_formerly smoked  \\\n",
       "0                 0            1                               1   \n",
       "1                 0            1                               0   \n",
       "2                 1            0                               0   \n",
       "3                 1            0                               0   \n",
       "4                 0            1                               1   \n",
       "...             ...          ...                             ...   \n",
       "4976              0            1                               1   \n",
       "4977              0            1                               0   \n",
       "4978              1            0                               0   \n",
       "4979              0            1                               0   \n",
       "4980              1            0                               0   \n",
       "\n",
       "      smoking_status_never smoked  smoking_status_smokes  \n",
       "0                               0                      0  \n",
       "1                               1                      0  \n",
       "2                               0                      1  \n",
       "3                               1                      0  \n",
       "4                               0                      0  \n",
       "...                           ...                    ...  \n",
       "4976                            0                      0  \n",
       "4977                            0                      1  \n",
       "4978                            0                      1  \n",
       "4979                            0                      1  \n",
       "4980                            1                      0  \n",
       "\n",
       "[4981 rows x 11 columns]"
      ]
     },
     "execution_count": 17,
     "metadata": {},
     "output_type": "execute_result"
    }
   ],
   "source": [
    "df.drop(columns=['ever_married','work_type','Residence_type'], inplace=True)\n",
    "df"
   ]
  },
  {
   "cell_type": "code",
   "execution_count": 18,
   "metadata": {
    "colab": {
     "base_uri": "https://localhost:8080/"
    },
    "id": "5wymdJvOtL_j",
    "outputId": "96d3d2a0-aef3-44f7-e1e6-16a34f51bdd1",
    "scrolled": true
   },
   "outputs": [
    {
     "data": {
      "text/plain": [
       "Index(['age', 'hypertension', 'heart_disease', 'avg_glucose_level', 'bmi',\n",
       "       'stroke', 'gender_Female', 'gender_Male',\n",
       "       'smoking_status_formerly smoked', 'smoking_status_never smoked',\n",
       "       'smoking_status_smokes'],\n",
       "      dtype='object')"
      ]
     },
     "execution_count": 18,
     "metadata": {},
     "output_type": "execute_result"
    }
   ],
   "source": [
    "df.columns"
   ]
  },
  {
   "cell_type": "markdown",
   "metadata": {},
   "source": [
    "### visualization :"
   ]
  },
  {
   "cell_type": "code",
   "execution_count": null,
   "metadata": {
    "id": "PKLLNMbL67ar"
   },
   "outputs": [],
   "source": [
    "#############################################################################"
   ]
  },
  {
   "cell_type": "markdown",
   "metadata": {
    "id": "InF6TMVjtAS6"
   },
   "source": [
    "### Outlaires :\n"
   ]
  },
  {
   "cell_type": "code",
   "execution_count": 19,
   "metadata": {
    "colab": {
     "base_uri": "https://localhost:8080/",
     "height": 574
    },
    "id": "gi4qS_entv6m",
    "outputId": "a8f734f7-d63b-4a51-d515-0028ff43b78a"
   },
   "outputs": [
    {
     "data": {
      "image/png": "[encoded data removed]",
      "text/plain": [
       "<Figure size 800x600 with 1 Axes>"
      ]
     },
     "metadata": {},
     "output_type": "display_data"
    }
   ],
   "source": [
    "features = ['age', 'avg_glucose_level', 'bmi']\n",
    "\n",
    "plt.figure(figsize=(8, 6))\n",
    "df[features].boxplot()\n",
    "plt.title('Boxplot')\n",
    "plt.xlabel('Data')\n",
    "plt.show()"
   ]
  },
  {
   "cell_type": "code",
   "execution_count": 20,
   "metadata": {
    "colab": {
     "base_uri": "https://localhost:8080/"
    },
    "id": "9peK8T5StCl3",
    "outputId": "e7e03f4a-a451-4d4e-c2f6-42f133b2108e"
   },
   "outputs": [
    {
     "name": "stdout",
     "output_type": "stream",
     "text": [
      "age\n",
      "Upper Bound: 115.0\n",
      "Lower Bound: -29.0\n",
      "----------------------------------\n",
      "avg_glucose_level\n",
      "Upper Bound: 168.805\n",
      "Lower Bound: 22.28500000000001\n",
      "----------------------------------\n",
      "bmi\n",
      "Upper Bound: 45.95\n",
      "Lower Bound: 10.349999999999996\n"
     ]
    }
   ],
   "source": [
    "features = ['age', 'avg_glucose_level', 'bmi']\n",
    "\n",
    "def limits(col):\n",
    "    Q1 = col.quantile(0.25)\n",
    "    Q3 = col.quantile(0.75)\n",
    "    IQR = Q3 - Q1\n",
    "\n",
    "    upper = Q3 + 1.5*IQR\n",
    "    lower = Q1 - 1.5*IQR\n",
    "\n",
    "    print(\"Upper Bound:\",upper)\n",
    "    print(\"Lower Bound:\",lower)\n",
    "    return upper, lower\n",
    "\n",
    "print(\"age\")\n",
    "upper1, lower1 = limits(df['age'])\n",
    "print(\"----------------------------------\")\n",
    "print(\"avg_glucose_level\")\n",
    "upper2, lower2 = limits(df['avg_glucose_level'])\n",
    "print(\"----------------------------------\")\n",
    "print(\"bmi\")\n",
    "upper3, lower3 = limits(df['bmi'])"
   ]
  },
  {
   "cell_type": "code",
   "execution_count": 21,
   "metadata": {
    "id": "ZFK73wmSth2R"
   },
   "outputs": [],
   "source": [
    "outliers = df[(df['age'] < lower1) | (df['age'] > upper1)]\n",
    "df = df.drop(outliers.index)\n",
    "\n",
    "outliers = df[(df['avg_glucose_level'] < lower2) | (df['avg_glucose_level'] > upper2)]\n",
    "df = df.drop(outliers.index)\n",
    "\n",
    "outliers = df[(df['bmi'] < lower3) | (df['bmi'] > upper3)]\n",
    "df = df.drop(outliers.index)"
   ]
  },
  {
   "cell_type": "code",
   "execution_count": 22,
   "metadata": {
    "colab": {
     "base_uri": "https://localhost:8080/",
     "height": 574
    },
    "id": "usmjHzO4tqz-",
    "outputId": "82329afe-5b42-411e-a849-8d3028325dc8"
   },
   "outputs": [
    {
     "data": {
      "image/png": "[encoded data removed]",
      "text/plain": [
       "<Figure size 800x600 with 1 Axes>"
      ]
     },
     "metadata": {},
     "output_type": "display_data"
    }
   ],
   "source": [
    "plt.figure(figsize=(8, 6))\n",
    "df[features].boxplot()\n",
    "plt.title('Boxplot')\n",
    "plt.xlabel('Data')\n",
    "plt.show()"
   ]
  },
  {
   "cell_type": "markdown",
   "metadata": {},
   "source": [
    "## Machine learning "
   ]
  },
  {
   "cell_type": "markdown",
   "metadata": {
    "id": "BUDs06ol0IAO"
   },
   "source": [
    "### train-test split : "
   ]
  },
  {
   "cell_type": "code",
   "execution_count": 23,
   "metadata": {
    "colab": {
     "base_uri": "https://localhost:8080/"
    },
    "id": "ZDFz58Htt7j7",
    "outputId": "9b64f8be-04cd-4089-b9cc-b3a92432d42c"
   },
   "outputs": [
    {
     "data": {
      "text/plain": [
       "((3477, 10), (870, 10), (3477,), (870,))"
      ]
     },
     "execution_count": 23,
     "metadata": {},
     "output_type": "execute_result"
    }
   ],
   "source": [
    "X = df.drop(['stroke'], axis=1)\n",
    "y = df['stroke']\n",
    "\n",
    "X_train, X_test, y_train, y_test = train_test_split(X,y , random_state=40,test_size=0.20, shuffle=True)\n",
    "X_train.shape, X_test.shape, y_train.shape, y_test.shape"
   ]
  },
  {
   "cell_type": "code",
   "execution_count": 24,
   "metadata": {
    "colab": {
     "base_uri": "https://localhost:8080/"
    },
    "id": "LBU7b50l1LZg",
    "outputId": "015421ef-3e59-4c64-ce36-a84b818e9dd8"
   },
   "outputs": [
    {
     "data": {
      "text/plain": [
       "0    0.96\n",
       "1    0.04\n",
       "Name: stroke, dtype: float64"
      ]
     },
     "execution_count": 24,
     "metadata": {},
     "output_type": "execute_result"
    }
   ],
   "source": [
    "y_train.value_counts(normalize = True).round(2)"
   ]
  },
  {
   "cell_type": "code",
   "execution_count": 25,
   "metadata": {
    "colab": {
     "base_uri": "https://localhost:8080/",
     "height": 575
    },
    "id": "M0xZXL2R1a0c",
    "outputId": "6460db49-f50d-411f-a750-e28b139157d6"
   },
   "outputs": [
    {
     "ename": "AttributeError",
     "evalue": "'NoneType' object has no attribute 'get_bbox'",
     "output_type": "error",
     "traceback": [
      "\u001b[1;31m---------------------------------------------------------------------------\u001b[0m",
      "\u001b[1;31mAttributeError\u001b[0m                            Traceback (most recent call last)",
      "Cell \u001b[1;32mIn[25], line 8\u001b[0m\n\u001b[0;32m      6\u001b[0m \u001b[38;5;66;03m#add labels to each bar\u001b[39;00m\n\u001b[0;32m      7\u001b[0m abs_values \u001b[38;5;241m=\u001b[39m y_train\u001b[38;5;241m.\u001b[39mvalue_counts(ascending\u001b[38;5;241m=\u001b[39m\u001b[38;5;28;01mFalse\u001b[39;00m)\u001b[38;5;241m.\u001b[39mvalues\n\u001b[1;32m----> 8\u001b[0m ax\u001b[38;5;241m.\u001b[39mbar_label(container\u001b[38;5;241m=\u001b[39max\u001b[38;5;241m.\u001b[39mcontainers[\u001b[38;5;241m0\u001b[39m], labels\u001b[38;5;241m=\u001b[39mabs_values)\n\u001b[0;32m     10\u001b[0m \u001b[38;5;66;03m#show the plot\u001b[39;00m\n\u001b[0;32m     11\u001b[0m plt\u001b[38;5;241m.\u001b[39mshow()\n",
      "File \u001b[1;32m~\\anaconda3\\Lib\\site-packages\\matplotlib\\axes\\_axes.py:2736\u001b[0m, in \u001b[0;36mAxes.bar_label\u001b[1;34m(self, container, labels, fmt, label_type, padding, **kwargs)\u001b[0m\n\u001b[0;32m   2731\u001b[0m annotations \u001b[38;5;241m=\u001b[39m []\n\u001b[0;32m   2733\u001b[0m \u001b[38;5;28;01mfor\u001b[39;00m bar, err, dat, lbl \u001b[38;5;129;01min\u001b[39;00m itertools\u001b[38;5;241m.\u001b[39mzip_longest(\n\u001b[0;32m   2734\u001b[0m         bars, errs, datavalues, labels\n\u001b[0;32m   2735\u001b[0m ):\n\u001b[1;32m-> 2736\u001b[0m     (x0, y0), (x1, y1) \u001b[38;5;241m=\u001b[39m bar\u001b[38;5;241m.\u001b[39mget_bbox()\u001b[38;5;241m.\u001b[39mget_points()\n\u001b[0;32m   2737\u001b[0m     xc, yc \u001b[38;5;241m=\u001b[39m (x0 \u001b[38;5;241m+\u001b[39m x1) \u001b[38;5;241m/\u001b[39m \u001b[38;5;241m2\u001b[39m, (y0 \u001b[38;5;241m+\u001b[39m y1) \u001b[38;5;241m/\u001b[39m \u001b[38;5;241m2\u001b[39m\n\u001b[0;32m   2739\u001b[0m     \u001b[38;5;28;01mif\u001b[39;00m orientation \u001b[38;5;241m==\u001b[39m \u001b[38;5;124m\"\u001b[39m\u001b[38;5;124mvertical\u001b[39m\u001b[38;5;124m\"\u001b[39m:\n",
      "\u001b[1;31mAttributeError\u001b[0m: 'NoneType' object has no attribute 'get_bbox'"
     ]
    },
    {
     "data": {
      "image/png": "[encoded data removed]",
      "text/plain": [
       "<Figure size 1200x600 with 1 Axes>"
      ]
     },
     "metadata": {},
     "output_type": "display_data"
    }
   ],
   "source": [
    "sns.set(rc={'axes.facecolor':'#ECECEC'}) #background color of plot\n",
    "plt.figure(figsize=(12,6))\n",
    "plt.title(\"Imbalanced target variable\", fontsize=15, fontweight='bold', ha='center')\n",
    "ax = sns.countplot(x=y_train, data=df, palette=['#E68753', '#409996'])\n",
    "\n",
    "#add labels to each bar\n",
    "abs_values = y_train.value_counts(ascending=False).values\n",
    "ax.bar_label(container=ax.containers[0], labels=abs_values)\n",
    "\n",
    "#show the plot\n",
    "plt.show()"
   ]
  },
  {
   "cell_type": "code",
   "execution_count": 26,
   "metadata": {
    "id": "ansBEw7tuUPL"
   },
   "outputs": [],
   "source": [
    "smote = SMOTE(sampling_strategy='minority')\n",
    "X_SMOTE, y_SMOTE = smote.fit_resample(X_train, y_train)\n",
    "X_SMOTE = pd.DataFrame(data = X_SMOTE, columns = X_SMOTE.columns)"
   ]
  },
  {
   "cell_type": "code",
   "execution_count": 27,
   "metadata": {
    "colab": {
     "base_uri": "https://localhost:8080/"
    },
    "id": "xnR4T4dZ1mkU",
    "outputId": "6062f21a-dfb7-4128-a4db-11fe9b8d7d94"
   },
   "outputs": [
    {
     "name": "stdout",
     "output_type": "stream",
     "text": [
      "Imbalanced target class: Counter({0: 3343, 1: 134})\n",
      "\n",
      "Balanced target class: Counter({0: 3343, 1: 3343})\n",
      "\n",
      "2339 new random picked points\n"
     ]
    }
   ],
   "source": [
    "print(f\"Imbalanced target class: {Counter(y_train)}\\n\\nBalanced target class: {Counter(y_SMOTE)}\\n\")\n",
    "print(X_SMOTE.shape[0] - df.shape[0], 'new random picked points')"
   ]
  },
  {
   "cell_type": "code",
   "execution_count": 28,
   "metadata": {
    "colab": {
     "base_uri": "https://localhost:8080/",
     "height": 575
    },
    "id": "vwDTmOB71gO_",
    "outputId": "2df787d0-7405-489b-8959-679577add120"
   },
   "outputs": [
    {
     "data": {
      "image/png": "[encoded data removed]",
      "text/plain": [
       "<Figure size 1200x600 with 1 Axes>"
      ]
     },
     "metadata": {},
     "output_type": "display_data"
    }
   ],
   "source": [
    "sns.set(rc={'axes.facecolor':'#ECECEC'})\n",
    "plt.figure(figsize=(12,6))\n",
    "plt.title(\"Balanced target variable\", fontsize=15, fontweight='bold', ha='center')\n",
    "ax = sns.countplot(x=y_SMOTE, data=df, palette=['#E68753', '#409996'])\n",
    "plt.show()"
   ]
  },
  {
   "cell_type": "code",
   "execution_count": 29,
   "metadata": {
    "id": "B2LOEBEww-9_"
   },
   "outputs": [],
   "source": [
    "def plot_conf_mtrix(name, y_pred, y_test):\n",
    "    print()\n",
    "    cf_matrix = confusion_matrix(y_test, y_pred)\n",
    "\n",
    "    ax = sns.heatmap(cf_matrix / np.sum(cf_matrix), annot = True, fmt = '.2%', cmap = plt.cm.Blues)\n",
    "    ax.set_title(f'{name} Confusion Matrix\\n\\n');\n",
    "    ax.set_xlabel('\\nPredicted Values')\n",
    "    ax.set_ylabel('Actual Values');\n",
    "\n",
    "    ax.xaxis.set_ticklabels(['0','1'])\n",
    "    ax.yaxis.set_ticklabels(['0','1'])\n",
    "\n",
    "    plt.show()"
   ]
  },
  {
   "cell_type": "code",
   "execution_count": 30,
   "metadata": {
    "id": "mpXAbQNYx8p8"
   },
   "outputs": [],
   "source": [
    "def cls_report(name, y_pred, y_test):\n",
    "    print(f'{name} Classification Report :\\n')\n",
    "    print('-'*54)\n",
    "    print()\n",
    "    print(classification_report(y_test, y_pred))\n",
    "    print('-'*54)\n",
    "    print()\n",
    "    print('Accuracy Score  : ' + str(round(accuracy_score(y_test, y_pred),3)))\n",
    "    print('Precision Score : ' + str(round(precision_score(y_test, y_pred),3)))\n",
    "    print('Recall Score    : ' + str(round(recall_score(y_test, y_pred),3)))\n",
    "    print('F-Score         : ' + str(round(f1_score(y_test, y_pred),3)))"
   ]
  },
  {
   "cell_type": "code",
   "execution_count": 31,
   "metadata": {
    "id": "OXHrjDTgv74R"
   },
   "outputs": [],
   "source": [
    "models = [LogisticRegression(), SVC(kernel = 'linear'), KNeighborsClassifier(), RandomForestClassifier(), DecisionTreeClassifier()]\n",
    "\n",
    "def compare_model_train_test():\n",
    "    for model in models:\n",
    "        model.fit(X_train,y_train)\n",
    "        y_pred = model.predict(X_test)\n",
    "        accuracy = accuracy_score(y_test,y_pred)\n",
    "        print('\\n\\nThe accuracy score of the ',model,' = ',accuracy)\n",
    "        cls_report(model, y_pred, y_test)\n",
    "        plot_conf_mtrix(model,y_pred,y_test)"
   ]
  },
  {
   "cell_type": "code",
   "execution_count": 32,
   "metadata": {
    "colab": {
     "base_uri": "https://localhost:8080/",
     "height": 1000
    },
    "id": "1wBajnMYwDu8",
    "outputId": "73ce8918-6e80-4aad-8f1e-5f41c2c532a5"
   },
   "outputs": [
    {
     "name": "stdout",
     "output_type": "stream",
     "text": [
      "\n",
      "\n",
      "The accuracy score of the  LogisticRegression()  =  0.964367816091954\n",
      "LogisticRegression() Classification Report :\n",
      "\n",
      "------------------------------------------------------\n",
      "\n",
      "              precision    recall  f1-score   support\n",
      "\n",
      "           0       0.96      1.00      0.98       839\n",
      "           1       0.00      0.00      0.00        31\n",
      "\n",
      "    accuracy                           0.96       870\n",
      "   macro avg       0.48      0.50      0.49       870\n",
      "weighted avg       0.93      0.96      0.95       870\n",
      "\n",
      "------------------------------------------------------\n",
      "\n",
      "Accuracy Score  : 0.964\n",
      "Precision Score : 0.0\n",
      "Recall Score    : 0.0\n",
      "F-Score         : 0.0\n",
      "\n"
     ]
    },
    {
     "data": {
      "image/png": "[encoded data removed]",
      "text/plain": [
       "<Figure size 640x480 with 2 Axes>"
      ]
     },
     "metadata": {},
     "output_type": "display_data"
    },
    {
     "name": "stdout",
     "output_type": "stream",
     "text": [
      "\n",
      "\n",
      "The accuracy score of the  SVC(kernel='linear')  =  0.964367816091954\n",
      "SVC(kernel='linear') Classification Report :\n",
      "\n",
      "------------------------------------------------------\n",
      "\n",
      "              precision    recall  f1-score   support\n",
      "\n",
      "           0       0.96      1.00      0.98       839\n",
      "           1       0.00      0.00      0.00        31\n",
      "\n",
      "    accuracy                           0.96       870\n",
      "   macro avg       0.48      0.50      0.49       870\n",
      "weighted avg       0.93      0.96      0.95       870\n",
      "\n",
      "------------------------------------------------------\n",
      "\n",
      "Accuracy Score  : 0.964\n",
      "Precision Score : 0.0\n",
      "Recall Score    : 0.0\n",
      "F-Score         : 0.0\n",
      "\n"
     ]
    },
    {
     "data": {
      "image/png": "[encoded data removed]",
      "text/plain": [
       "<Figure size 640x480 with 2 Axes>"
      ]
     },
     "metadata": {},
     "output_type": "display_data"
    },
    {
     "name": "stdout",
     "output_type": "stream",
     "text": [
      "\n",
      "\n",
      "The accuracy score of the  KNeighborsClassifier()  =  0.964367816091954\n",
      "KNeighborsClassifier() Classification Report :\n",
      "\n",
      "------------------------------------------------------\n",
      "\n",
      "              precision    recall  f1-score   support\n",
      "\n",
      "           0       0.97      1.00      0.98       839\n",
      "           1       0.50      0.03      0.06        31\n",
      "\n",
      "    accuracy                           0.96       870\n",
      "   macro avg       0.73      0.52      0.52       870\n",
      "weighted avg       0.95      0.96      0.95       870\n",
      "\n",
      "------------------------------------------------------\n",
      "\n",
      "Accuracy Score  : 0.964\n",
      "Precision Score : 0.5\n",
      "Recall Score    : 0.032\n",
      "F-Score         : 0.061\n",
      "\n"
     ]
    },
    {
     "data": {
      "image/png": "[encoded data removed]",
      "text/plain": [
       "<Figure size 640x480 with 2 Axes>"
      ]
     },
     "metadata": {},
     "output_type": "display_data"
    },
    {
     "name": "stdout",
     "output_type": "stream",
     "text": [
      "\n",
      "\n",
      "The accuracy score of the  RandomForestClassifier()  =  0.9632183908045977\n",
      "RandomForestClassifier() Classification Report :\n",
      "\n",
      "------------------------------------------------------\n",
      "\n",
      "              precision    recall  f1-score   support\n",
      "\n",
      "           0       0.97      1.00      0.98       839\n",
      "           1       0.43      0.10      0.16        31\n",
      "\n",
      "    accuracy                           0.96       870\n",
      "   macro avg       0.70      0.55      0.57       870\n",
      "weighted avg       0.95      0.96      0.95       870\n",
      "\n",
      "------------------------------------------------------\n",
      "\n",
      "Accuracy Score  : 0.963\n",
      "Precision Score : 0.429\n",
      "Recall Score    : 0.097\n",
      "F-Score         : 0.158\n",
      "\n"
     ]
    },
    {
     "data": {
      "image/png": "[encoded data removed]",
      "text/plain": [
       "<Figure size 640x480 with 2 Axes>"
      ]
     },
     "metadata": {},
     "output_type": "display_data"
    },
    {
     "name": "stdout",
     "output_type": "stream",
     "text": [
      "\n",
      "\n",
      "The accuracy score of the  DecisionTreeClassifier()  =  0.9298850574712644\n",
      "DecisionTreeClassifier() Classification Report :\n",
      "\n",
      "------------------------------------------------------\n",
      "\n",
      "              precision    recall  f1-score   support\n",
      "\n",
      "           0       0.96      0.96      0.96       839\n",
      "           1       0.00      0.00      0.00        31\n",
      "\n",
      "    accuracy                           0.93       870\n",
      "   macro avg       0.48      0.48      0.48       870\n",
      "weighted avg       0.93      0.93      0.93       870\n",
      "\n",
      "------------------------------------------------------\n",
      "\n",
      "Accuracy Score  : 0.93\n",
      "Precision Score : 0.0\n",
      "Recall Score    : 0.0\n",
      "F-Score         : 0.0\n",
      "\n"
     ]
    },
    {
     "data": {
      "image/png": "[encoded data removed]",
      "text/plain": [
       "<Figure size 640x480 with 2 Axes>"
      ]
     },
     "metadata": {},
     "output_type": "display_data"
    }
   ],
   "source": [
    "compare_model_train_test()"
   ]
  },
  {
   "cell_type": "code",
   "execution_count": 236,
   "metadata": {
    "id": "SjEvHP-x3Nxv"
   },
   "outputs": [],
   "source": [
    "# fig = plt.figure(figsize = (25, 20));\n",
    "\n",
    "# tree.plot_tree(\n",
    "#     model,\n",
    "#     feature_names = list(X),\n",
    "#     class_names = ['Not Safe', 'Safe'],\n",
    "#     max_depth = 2,\n",
    "#     filled = True\n",
    "# );"
   ]
  },
  {
   "cell_type": "markdown",
   "metadata": {
    "id": "btjNymtc0cwy"
   },
   "source": [
    "### cross-validation split :"
   ]
  },
  {
   "cell_type": "code",
   "execution_count": 33,
   "metadata": {
    "colab": {
     "base_uri": "https://localhost:8080/"
    },
    "id": "hdzE3P9h4YG6",
    "outputId": "0b3517c5-a8ed-4420-a947-2d1bdaf68d44"
   },
   "outputs": [
    {
     "name": "stdout",
     "output_type": "stream",
     "text": [
      "(3912, 10) (435, 10) (3912,) (435,)\n"
     ]
    }
   ],
   "source": [
    "X_train_cv, X_test_cv, y_train_cv, y_test_cv = train_test_split(X, y, test_size = 0.1, random_state = 42)\n",
    "print(X_train_cv.shape, X_test_cv.shape, y_train_cv.shape, y_test_cv.shape)\n",
    "\n",
    "smote_cv = SMOTE(sampling_strategy='minority')\n",
    "\n",
    "X_SMOTE_cv, y_SMOTE_cv = smote_cv.fit_resample(X_train_cv, y_train_cv)\n",
    "X_SMOTE_cv = pd.DataFrame(data = X_SMOTE_cv, columns = X_SMOTE_cv.columns)"
   ]
  },
  {
   "cell_type": "code",
   "execution_count": 34,
   "metadata": {
    "colab": {
     "base_uri": "https://localhost:8080/"
    },
    "id": "kCUmSzhVu_em",
    "outputId": "4f89be6d-3e2c-433a-b809-5369b69de786"
   },
   "outputs": [
    {
     "name": "stdout",
     "output_type": "stream",
     "text": [
      "Logistic Regression List of scores :\n",
      "[0.79415671 0.91102258 0.90703851 0.92828685 0.89110226 0.89774236\n",
      " 0.89508632 0.88711819 0.89110226 0.88711819]\n",
      "Logistic Regression Average Score : 0.8889774236387782\n",
      "\n",
      "KNN List of scores :\n",
      "[0.91367862 0.90172643 0.89508632 0.90172643 0.89641434 0.90571049\n",
      " 0.90836653 0.90571049 0.88977424 0.89110226]\n",
      "KNN Average Score : 0.9009296148738379\n",
      "\n",
      "SVM List of scores :\n",
      "[0.78353254 0.7875166  0.78618858 0.79282869 0.75298805 0.76759628\n",
      " 0.7875166  0.79282869 0.76626826 0.77954847]\n",
      "SVM Average Score : 0.7796812749003984\n",
      "\n",
      "Decision Tree List of scores :\n",
      "[0.875166   0.95484728 0.94023904 0.95219124 0.96547145 0.96281541\n",
      " 0.94156707 0.96547145 0.95484728 0.94289509]\n",
      "Decision Tree Average Score : 0.9455511288180614\n",
      "\n",
      "Random Forest List of scores :\n",
      "[0.88579017 0.97211155 0.97609562 0.98007968 0.97609562 0.97343958\n",
      " 0.98273572 0.97742364 0.97875166 0.98007968]\n",
      "Random Forest Average Score : 0.9682602921646748\n",
      "\n"
     ]
    }
   ],
   "source": [
    "from sklearn.model_selection import cross_val_score\n",
    "\n",
    "cross_validation_t_time = []\n",
    "cross_validation_scores = []\n",
    "\n",
    "cv_models = {\n",
    "    'Logistic Regression' : LogisticRegression(),\n",
    "    'KNN' : KNeighborsClassifier(),\n",
    "    'SVM' : SVC(),\n",
    "    'Decision Tree' : DecisionTreeClassifier(),\n",
    "    'Random Forest' : RandomForestClassifier(),\n",
    "}\n",
    "\n",
    "for model in cv_models:\n",
    "    start = time.time()\n",
    "    scores = cross_val_score(cv_models[model], X_SMOTE_cv, y_SMOTE_cv, cv = 10)\n",
    "    end = time.time()\n",
    "    print(f'{model} List of scores :\\n{scores}')\n",
    "    cross_validation_t_time.append(end - start)\n",
    "    avg_scores = np.mean(scores)\n",
    "\n",
    "    print(f'{model} Average Score : {avg_scores}\\n')\n",
    "\n",
    "    cross_validation_scores.append(avg_scores)\n",
    "\n",
    "def compare_model_train_test():\n",
    "    for model in models:\n",
    "        model.fit(X_train,y_train)\n",
    "        y_pred = model.predict(X_test)\n",
    "        accuracy = accuracy_score(y_test,y_pred)\n",
    "        print('\\n\\nThe accuracy score of the ',model,' = ',accuracy)\n",
    "        cls_report(model, y_pred, y_test)\n",
    "        plot_conf_mtrix(model,y_pred,y_test)"
   ]
  },
  {
   "cell_type": "code",
   "execution_count": 36,
   "metadata": {
    "colab": {
     "base_uri": "https://localhost:8080/"
    },
    "id": "Wkc9qnQm4tnJ",
    "outputId": "faf66cfc-536c-4031-b300-c38f786c1e99"
   },
   "outputs": [
    {
     "name": "stdout",
     "output_type": "stream",
     "text": [
      "Accuracy for the best model using the fainal testing set :-\n",
      "0.9943\n"
     ]
    }
   ],
   "source": [
    "cv_rf = RandomForestClassifier()\n",
    "\n",
    "cv_rf.fit(X_SMOTE_cv, y_SMOTE_cv)\n",
    "\n",
    "y_pred = cv_rf.predict(X_test)\n",
    "\n",
    "print('Accuracy for the best model using the fainal testing set :-')\n",
    "print(accuracy_score(y_test, y_pred).round(4))"
   ]
  },
  {
   "cell_type": "markdown",
   "metadata": {
    "id": "KBYtgffg42Cp"
   },
   "source": [
    "### GridSearchCV :"
   ]
  },
  {
   "cell_type": "code",
   "execution_count": 37,
   "metadata": {
    "id": "LUxMRyABvDcL"
   },
   "outputs": [],
   "source": [
    "training_time_hyp = []\n",
    "prediction_time_hyp = []\n",
    "training_scores_hyp = []\n",
    "accuracies_hyp = []"
   ]
  },
  {
   "cell_type": "code",
   "execution_count": 38,
   "metadata": {
    "colab": {
     "base_uri": "https://localhost:8080/"
    },
    "id": "kKLj_oBVvqg0",
    "outputId": "1688a28d-029d-432d-a125-5d0fbe9b1b4b"
   },
   "outputs": [
    {
     "name": "stdout",
     "output_type": "stream",
     "text": [
      "(3912, 10) (435, 10) (3912,) (435,)\n"
     ]
    }
   ],
   "source": [
    "X_train_hyp, X_test_hyp, y_train_hyp, y_test_hyp = train_test_split(X, y, test_size = 0.1, random_state = 42)\n",
    "print(X_train_hyp.shape, X_test_hyp.shape, y_train_hyp.shape, y_test_hyp.shape)\n",
    "\n",
    "smote_hyp = SMOTE(sampling_strategy='minority')\n",
    "\n",
    "X_SMOTE_hyp, y_SMOTE_hyp = smote_hyp.fit_resample(X_train_hyp, y_train_hyp)\n",
    "X_SMOTE_hyp = pd.DataFrame(data = X_SMOTE_hyp, columns = X_SMOTE_hyp.columns)"
   ]
  },
  {
   "cell_type": "markdown",
   "metadata": {},
   "source": [
    "#### logistic regression :"
   ]
  },
  {
   "cell_type": "code",
   "execution_count": 39,
   "metadata": {
    "colab": {
     "base_uri": "https://localhost:8080/",
     "height": 390
    },
    "id": "Pqr9CMIjvt3s",
    "outputId": "54d0eccf-f611-4934-c78f-f6a1f3d673d3"
   },
   "outputs": [
    {
     "name": "stdout",
     "output_type": "stream",
     "text": [
      "The model was trained successfuly.\n",
      "\n",
      "The predicted values       : Counter({0: 405, 1: 30}).\n",
      "The real values            : Counter({0: 417, 1: 18}).\n",
      "The accuracy for the model : 0.9218\n",
      "Number of mislabeled points out of a total 435 points: 34\n",
      "\n"
     ]
    },
    {
     "data": {
      "image/png": "[encoded data removed]",
      "text/plain": [
       "<Figure size 640x480 with 2 Axes>"
      ]
     },
     "metadata": {},
     "output_type": "display_data"
    },
    {
     "name": "stdout",
     "output_type": "stream",
     "text": [
      "GridSearchCV Classification Report :\n",
      "\n",
      "------------------------------------------------------\n",
      "\n",
      "              precision    recall  f1-score   support\n",
      "\n",
      "           0       0.97      0.94      0.96       417\n",
      "           1       0.23      0.39      0.29        18\n",
      "\n",
      "    accuracy                           0.92       435\n",
      "   macro avg       0.60      0.67      0.63       435\n",
      "weighted avg       0.94      0.92      0.93       435\n",
      "\n",
      "------------------------------------------------------\n",
      "\n",
      "Accuracy Score  : 0.922\n",
      "Precision Score : 0.233\n",
      "Recall Score    : 0.389\n",
      "F-Score         : 0.292\n"
     ]
    }
   ],
   "source": [
    "lr_hyp = LogisticRegression()\n",
    "\n",
    "penalty = ['l1', 'l2', 'elasticnet', 'none']\n",
    "C       = [0.001, 0.01, 0.1, 1, 10, 100, 1000]\n",
    "solver  = ['lbfgs','newton-cg','liblinear','sag','saga']\n",
    "\n",
    "lr_hyperparameters = dict(penalty=penalty, C=C, solver=solver)\n",
    "\n",
    "cv = RepeatedStratifiedKFold(n_splits=10, n_repeats=3, random_state=1)\n",
    "\n",
    "grid_search = GridSearchCV(\n",
    "    estimator=lr_hyp,\n",
    "    param_grid=lr_hyperparameters,\n",
    "    cv=cv,\n",
    "    scoring='accuracy',\n",
    "    return_train_score=True\n",
    ")\n",
    "\n",
    "start = time.time()\n",
    "best_lr = grid_search.fit(X_SMOTE_hyp, y_SMOTE_hyp)\n",
    "end = time.time()\n",
    "\n",
    "t_time = end - start\n",
    "\n",
    "print('The model was trained successfuly.\\n')\n",
    "\n",
    "start = time.time()\n",
    "lr_y_pred_hyp = best_lr.predict(X_test_hyp)\n",
    "end = time.time()\n",
    "\n",
    "p_time = end - start\n",
    "\n",
    "t_score = best_lr.score(X_SMOTE_hyp, y_SMOTE_hyp)\n",
    "\n",
    "print(f'The predicted values       : {Counter(lr_y_pred_hyp)}.')\n",
    "print(f'The real values            : {Counter(y_test_hyp)}.')\n",
    "\n",
    "accu = accuracy_score(y_test_hyp, lr_y_pred_hyp).round(4)\n",
    "\n",
    "print(f'The accuracy for the model : {accu}')\n",
    "print('Number of mislabeled points out of a total %d points: %d' % (X_test_hyp.shape[0], (y_test_hyp != lr_y_pred_hyp).sum()))\n",
    "\n",
    "plot_conf_mtrix(best_lr.__class__.__name__, lr_y_pred_hyp, y_test_hyp)\n",
    "cls_report(best_lr.__class__.__name__, lr_y_pred_hyp, y_test_hyp)"
   ]
  },
  {
   "cell_type": "code",
   "execution_count": 42,
   "metadata": {
    "id": "bqdK9Eq35IRZ"
   },
   "outputs": [
    {
     "name": "stdout",
     "output_type": "stream",
     "text": [
      "Best penalty: l1\n",
      "Best C: 1\n",
      "Best solver: liblinear\n"
     ]
    }
   ],
   "source": [
    "# Best Hyperparameters Value\n",
    "print('Best penalty:', best_lr.best_estimator_.get_params()['penalty'])\n",
    "print('Best C:', best_lr.best_estimator_.get_params()['C'])\n",
    "print('Best solver:', best_lr.best_estimator_.get_params()['solver'])"
   ]
  },
  {
   "cell_type": "code",
   "execution_count": 43,
   "metadata": {},
   "outputs": [],
   "source": [
    "training_scores_hyp.append(t_score)\n",
    "accuracies_hyp.append(accu)"
   ]
  },
  {
   "cell_type": "markdown",
   "metadata": {},
   "source": [
    "#### KNN"
   ]
  },
  {
   "cell_type": "code",
   "execution_count": 44,
   "metadata": {},
   "outputs": [
    {
     "name": "stdout",
     "output_type": "stream",
     "text": [
      "The model was trained successfuly.\n",
      "\n",
      "The predicted values       : Counter({0: 381, 1: 54}).\n",
      "The predicted values       : Counter({0: 417, 1: 18}).\n",
      "The accuracy for the model : 0.8713\n",
      "Number of mislabeled points out of a total 870 points: 56\n",
      "\n"
     ]
    },
    {
     "data": {
      "image/png": "[encoded data removed]",
      "text/plain": [
       "<Figure size 640x480 with 2 Axes>"
      ]
     },
     "metadata": {},
     "output_type": "display_data"
    },
    {
     "name": "stdout",
     "output_type": "stream",
     "text": [
      "GridSearchCV Classification Report :\n",
      "\n",
      "------------------------------------------------------\n",
      "\n",
      "              precision    recall  f1-score   support\n",
      "\n",
      "           0       0.97      0.89      0.93       417\n",
      "           1       0.15      0.44      0.22        18\n",
      "\n",
      "    accuracy                           0.87       435\n",
      "   macro avg       0.56      0.67      0.58       435\n",
      "weighted avg       0.94      0.87      0.90       435\n",
      "\n",
      "------------------------------------------------------\n",
      "\n",
      "Accuracy Score  : 0.871\n",
      "Precision Score : 0.148\n",
      "Recall Score    : 0.444\n",
      "F-Score         : 0.222\n"
     ]
    }
   ],
   "source": [
    "knn_hyp = KNeighborsClassifier()\n",
    "\n",
    "n_neighbors = [1, 3, 5, 7, 9, 11, 13, 15, 17, 19]\n",
    "weights = ['distance'] \n",
    "metric = ['euclidean'] \n",
    "algorithm = ['auto'] \n",
    "\n",
    "knn_hyperparameters = dict(n_neighbors=n_neighbors,weights=weights,metric=metric,algorithm=algorithm)\n",
    "\n",
    "cv = RepeatedStratifiedKFold(n_splits=10, n_repeats=1, random_state=1)\n",
    "\n",
    "grid_search = GridSearchCV(\n",
    "    estimator=knn_hyp,\n",
    "    param_grid=knn_hyperparameters,\n",
    "    cv=cv,\n",
    "    scoring='accuracy',\n",
    "    return_train_score=True\n",
    ")\n",
    "\n",
    "start = time.time()\n",
    "best_knn = grid_search.fit(X_SMOTE_hyp, y_SMOTE_hyp)\n",
    "end = time.time()\n",
    "\n",
    "training_time_hyp.append(end - start)\n",
    "\n",
    "print('The model was trained successfuly.\\n')\n",
    "\n",
    "start = time.time()\n",
    "knn_y_pred_hyp = best_knn.predict(X_test_hyp)\n",
    "end = time.time()\n",
    "\n",
    "prediction_time_hyp.append(end - start)\n",
    "\n",
    "training_scores_hyp.append(best_knn.score(X_SMOTE_hyp, y_SMOTE_hyp))\n",
    "\n",
    "print(f'The predicted values       : {Counter(knn_y_pred_hyp)}.')\n",
    "print(f'The predicted values       : {Counter(y_test_hyp)}.')\n",
    "\n",
    "accu = accuracy_score(y_test_hyp, knn_y_pred_hyp).round(4)\n",
    "accuracies_hyp.append(accu)\n",
    "\n",
    "print(f'The accuracy for the model : {accu}')\n",
    "print('Number of mislabeled points out of a total %d points: %d' % (X_test.shape[0], (y_test_hyp != knn_y_pred_hyp).sum()))\n",
    "\n",
    "plot_conf_mtrix(best_knn.__class__.__name__, knn_y_pred_hyp, y_test_hyp)\n",
    "cls_report(best_knn.__class__.__name__, knn_y_pred_hyp, y_test_hyp)"
   ]
  },
  {
   "cell_type": "code",
   "execution_count": 45,
   "metadata": {},
   "outputs": [
    {
     "name": "stdout",
     "output_type": "stream",
     "text": [
      "Best n_neighbors: 1\n",
      "Best weights: distance\n",
      "Best metric: euclidean\n",
      "Best algorithm: auto\n"
     ]
    }
   ],
   "source": [
    "# Best Hyperparameters Value\n",
    "print('Best n_neighbors:', best_knn.best_estimator_.get_params()['n_neighbors'])\n",
    "print('Best weights:', best_knn.best_estimator_.get_params()['weights'])\n",
    "print('Best metric:', best_knn.best_estimator_.get_params()['metric'])\n",
    "print('Best algorithm:', best_knn.best_estimator_.get_params()['algorithm'])"
   ]
  },
  {
   "cell_type": "code",
   "execution_count": 46,
   "metadata": {},
   "outputs": [],
   "source": [
    "training_scores_hyp.append(t_score)\n",
    "accuracies_hyp.append(accu)"
   ]
  },
  {
   "cell_type": "markdown",
   "metadata": {},
   "source": [
    "#### SVM"
   ]
  },
  {
   "cell_type": "code",
   "execution_count": 47,
   "metadata": {},
   "outputs": [
    {
     "name": "stdout",
     "output_type": "stream",
     "text": [
      "The model was trained successfuly.\n",
      "\n",
      "The predicted values       : Counter({0: 398, 1: 37}).\n",
      "The real values       : Counter({0: 417, 1: 18}).\n",
      "The accuracy for the model : 0.9149\n",
      "Number of mislabeled points out of a total 435 points: 37\n",
      "\n"
     ]
    },
    {
     "data": {
      "image/png": "[encoded data removed]",
      "text/plain": [
       "<Figure size 640x480 with 2 Axes>"
      ]
     },
     "metadata": {},
     "output_type": "display_data"
    },
    {
     "name": "stdout",
     "output_type": "stream",
     "text": [
      "GridSearchCV Classification Report :\n",
      "\n",
      "------------------------------------------------------\n",
      "\n",
      "              precision    recall  f1-score   support\n",
      "\n",
      "           0       0.98      0.93      0.95       417\n",
      "           1       0.24      0.50      0.33        18\n",
      "\n",
      "    accuracy                           0.91       435\n",
      "   macro avg       0.61      0.72      0.64       435\n",
      "weighted avg       0.95      0.91      0.93       435\n",
      "\n",
      "------------------------------------------------------\n",
      "\n",
      "Accuracy Score  : 0.915\n",
      "Precision Score : 0.243\n",
      "Recall Score    : 0.5\n",
      "F-Score         : 0.327\n"
     ]
    }
   ],
   "source": [
    "svm_hyp = SVC()\n",
    "\n",
    "kernel = ['poly', 'rbf', 'sigmoid']\n",
    "C = [1, 10, 100]\n",
    "gamma = ['scale']\n",
    "\n",
    "svm_hyperparameters = dict(kernel=kernel, C=C, gamma=gamma)\n",
    "\n",
    "cv = RepeatedStratifiedKFold(n_splits=10, n_repeats=3, random_state=1)\n",
    "\n",
    "grid_search = GridSearchCV(\n",
    "    estimator=svm_hyp,\n",
    "    param_grid=svm_hyperparameters,\n",
    "    n_jobs=-1,\n",
    "    cv=cv,\n",
    "    scoring='accuracy',\n",
    "    error_score=0,\n",
    "    return_train_score=True\n",
    ")\n",
    "\n",
    "start = time.time()\n",
    "best_svm = grid_search.fit(X_SMOTE_hyp, y_SMOTE_hyp)\n",
    "end = time.time()\n",
    "\n",
    "t_time = end - start\n",
    "\n",
    "print('The model was trained successfuly.\\n')\n",
    "\n",
    "start = time.time()\n",
    "svm_y_pred_hyp = best_svm.predict(X_test_hyp)\n",
    "end = time.time()\n",
    "\n",
    "p_time = end - start\n",
    "\n",
    "t_score = best_svm.score(X_SMOTE_hyp, y_SMOTE_hyp)\n",
    "\n",
    "print(f'The predicted values       : {Counter(svm_y_pred_hyp)}.')\n",
    "print(f'The real values       : {Counter(y_test_hyp)}.')\n",
    "\n",
    "accu = accuracy_score(y_test_hyp, svm_y_pred_hyp).round(4)\n",
    "\n",
    "print(f'The accuracy for the model : {accu}')\n",
    "print('Number of mislabeled points out of a total %d points: %d' % (X_test_hyp.shape[0], (y_test_hyp != svm_y_pred_hyp).sum()))\n",
    "\n",
    "plot_conf_mtrix(best_svm.__class__.__name__, svm_y_pred_hyp, y_test_hyp)\n",
    "cls_report(best_svm.__class__.__name__, svm_y_pred_hyp, y_test_hyp)"
   ]
  },
  {
   "cell_type": "code",
   "execution_count": 48,
   "metadata": {},
   "outputs": [
    {
     "name": "stdout",
     "output_type": "stream",
     "text": [
      "Best kernel: rbf\n",
      "Best C: 100\n",
      "Best gamma: scale\n"
     ]
    }
   ],
   "source": [
    "# Best Hyperparameters Value\n",
    "print('Best kernel:', best_svm.best_estimator_.get_params()['kernel'])\n",
    "print('Best C:', best_svm.best_estimator_.get_params()['C'])\n",
    "print('Best gamma:', best_svm.best_estimator_.get_params()['gamma'])"
   ]
  },
  {
   "cell_type": "code",
   "execution_count": 49,
   "metadata": {},
   "outputs": [],
   "source": [
    "training_scores_hyp.append(t_score)\n",
    "accuracies_hyp.append(accu)"
   ]
  },
  {
   "cell_type": "markdown",
   "metadata": {},
   "source": [
    "#### Decession Tree"
   ]
  },
  {
   "cell_type": "code",
   "execution_count": 50,
   "metadata": {},
   "outputs": [
    {
     "name": "stdout",
     "output_type": "stream",
     "text": [
      "The model was trained successfuly.\n",
      "\n",
      "The predicted values       : Counter({0: 401, 1: 34}).\n",
      "The real values            : Counter({0: 417, 1: 18}).\n",
      "The accuracy for the model : 0.8943\n",
      "Number of mislabeled points out of a total 435 points: 46\n",
      "\n"
     ]
    },
    {
     "data": {
      "image/png": "[encoded data removed]",
      "text/plain": [
       "<Figure size 640x480 with 2 Axes>"
      ]
     },
     "metadata": {},
     "output_type": "display_data"
    },
    {
     "name": "stdout",
     "output_type": "stream",
     "text": [
      "GridSearchCV Classification Report :\n",
      "\n",
      "------------------------------------------------------\n",
      "\n",
      "              precision    recall  f1-score   support\n",
      "\n",
      "           0       0.96      0.93      0.94       417\n",
      "           1       0.09      0.17      0.12        18\n",
      "\n",
      "    accuracy                           0.89       435\n",
      "   macro avg       0.53      0.55      0.53       435\n",
      "weighted avg       0.93      0.89      0.91       435\n",
      "\n",
      "------------------------------------------------------\n",
      "\n",
      "Accuracy Score  : 0.894\n",
      "Precision Score : 0.088\n",
      "Recall Score    : 0.167\n",
      "F-Score         : 0.115\n"
     ]
    }
   ],
   "source": [
    "dt_hyp = DecisionTreeClassifier()\n",
    "\n",
    "criterion = [\"gini\", \"entropy\"]\n",
    "max_depth = [2, 4, 6, 8, 10]\n",
    "max_features = ['auto', 'sqrt', 'log2']\n",
    "\n",
    "dt_hyperparameters = dict(\n",
    "    criterion=criterion,\n",
    "    max_depth=max_depth,\n",
    "    max_features=max_features\n",
    ")\n",
    "\n",
    "cv = RepeatedStratifiedKFold(n_splits=10, n_repeats=3, random_state=1)\n",
    "\n",
    "grid_search = GridSearchCV(\n",
    "    estimator=dt_hyp,\n",
    "    param_grid=dt_hyperparameters,\n",
    "    n_jobs=-1,\n",
    "    cv=cv,\n",
    "    scoring='accuracy',\n",
    "    error_score=0,\n",
    "    return_train_score=True\n",
    ")\n",
    "\n",
    "start = time.time()\n",
    "best_dt = grid_search.fit(X_SMOTE_hyp, y_SMOTE_hyp)\n",
    "end = time.time()\n",
    "\n",
    "t_time = end - start\n",
    "\n",
    "print('The model was trained successfuly.\\n')\n",
    "\n",
    "start = time.time()\n",
    "dt_y_pred_hyp = best_dt.predict(X_test_hyp)\n",
    "end = time.time()\n",
    "\n",
    "p_time = end - start\n",
    "\n",
    "t_score = best_dt.score(X_SMOTE_hyp, y_SMOTE_hyp)\n",
    "\n",
    "print(f'The predicted values       : {Counter(dt_y_pred_hyp)}.')\n",
    "print(f'The real values            : {Counter(y_test_hyp)}.')\n",
    "\n",
    "accu = accuracy_score(y_test_hyp, dt_y_pred_hyp).round(4)\n",
    "\n",
    "print(f'The accuracy for the model : {accu}')\n",
    "print('Number of mislabeled points out of a total %d points: %d' % (X_test_hyp.shape[0], (y_test_hyp != dt_y_pred_hyp).sum()))\n",
    "\n",
    "plot_conf_mtrix(best_dt.__class__.__name__, dt_y_pred_hyp, y_test_hyp)\n",
    "cls_report(best_dt.__class__.__name__, dt_y_pred_hyp, y_test_hyp)"
   ]
  },
  {
   "cell_type": "code",
   "execution_count": 51,
   "metadata": {},
   "outputs": [
    {
     "name": "stdout",
     "output_type": "stream",
     "text": [
      "Best criterion: gini\n",
      "Best max_depth: 10\n",
      "Best max_features: sqrt\n"
     ]
    }
   ],
   "source": [
    "# Best Hyperparameters Value\n",
    "print('Best criterion:', best_dt.best_estimator_.get_params()['criterion'])\n",
    "print('Best max_depth:', best_dt.best_estimator_.get_params()['max_depth'])\n",
    "print('Best max_features:', best_dt.best_estimator_.get_params()['max_features'])"
   ]
  },
  {
   "cell_type": "code",
   "execution_count": 52,
   "metadata": {},
   "outputs": [],
   "source": [
    "training_scores_hyp.append(t_score)\n",
    "accuracies_hyp.append(accu)"
   ]
  },
  {
   "cell_type": "markdown",
   "metadata": {},
   "source": [
    "#### Random forest "
   ]
  },
  {
   "cell_type": "code",
   "execution_count": 53,
   "metadata": {},
   "outputs": [
    {
     "name": "stdout",
     "output_type": "stream",
     "text": [
      "The model was trained successfuly.\n",
      "\n",
      "The predicted values       : Counter({0: 415, 1: 20}).\n",
      "The real values            : Counter({0: 417, 1: 18}).\n",
      "The accuracy for the model : 0.9356\n",
      "Number of mislabeled points out of a total 435 points: 28\n",
      "\n"
     ]
    },
    {
     "data": {
      "image/png": "[encoded data removed]",
      "text/plain": [
       "<Figure size 640x480 with 2 Axes>"
      ]
     },
     "metadata": {},
     "output_type": "display_data"
    },
    {
     "name": "stdout",
     "output_type": "stream",
     "text": [
      "GridSearchCV Classification Report :\n",
      "\n",
      "------------------------------------------------------\n",
      "\n",
      "              precision    recall  f1-score   support\n",
      "\n",
      "           0       0.97      0.96      0.97       417\n",
      "           1       0.25      0.28      0.26        18\n",
      "\n",
      "    accuracy                           0.94       435\n",
      "   macro avg       0.61      0.62      0.61       435\n",
      "weighted avg       0.94      0.94      0.94       435\n",
      "\n",
      "------------------------------------------------------\n",
      "\n",
      "Accuracy Score  : 0.936\n",
      "Precision Score : 0.25\n",
      "Recall Score    : 0.278\n",
      "F-Score         : 0.263\n"
     ]
    }
   ],
   "source": [
    "rf_hyp = RandomForestClassifier()\n",
    "\n",
    "n_estimators = [100, 200, 500]\n",
    "criterion = [\"gini\", \"entropy\"]\n",
    "max_depth = [2, 4, 6, 8, 10]\n",
    "max_features = ['auto', 'sqrt', 'log2']\n",
    "\n",
    "rf_hyperparameters = dict(\n",
    "    n_estimators=n_estimators,\n",
    "    criterion=criterion,\n",
    "    max_depth=max_depth,\n",
    "    max_features=max_features\n",
    ")\n",
    "\n",
    "cv = RepeatedStratifiedKFold(n_splits=10, n_repeats=3, random_state=1)\n",
    "\n",
    "grid_search = GridSearchCV(\n",
    "    estimator=rf_hyp,\n",
    "    param_grid=rf_hyperparameters,\n",
    "    n_jobs=-1,\n",
    "    cv=cv,\n",
    "    scoring='accuracy',\n",
    "    error_score=0,\n",
    "    return_train_score=True\n",
    ")\n",
    "\n",
    "start = time.time()\n",
    "best_rf = grid_search.fit(X_SMOTE_hyp, y_SMOTE_hyp)\n",
    "end = time.time()\n",
    "\n",
    "t_time = end - start\n",
    "\n",
    "print('The model was trained successfuly.\\n')\n",
    "\n",
    "start = time.time()\n",
    "rf_y_pred_hyp = best_rf.predict(X_test_hyp)\n",
    "end = time.time()\n",
    "\n",
    "p_time = end - start\n",
    "\n",
    "t_score = best_rf.score(X_SMOTE_hyp, y_SMOTE_hyp)\n",
    "\n",
    "print(f'The predicted values       : {Counter(rf_y_pred_hyp)}.')\n",
    "print(f'The real values            : {Counter(y_test_hyp)}.')\n",
    "\n",
    "accu = accuracy_score(y_test_hyp, rf_y_pred_hyp).round(4)\n",
    "\n",
    "print(f'The accuracy for the model : {accu}')\n",
    "print('Number of mislabeled points out of a total %d points: %d' % (X_test_hyp.shape[0], (y_test_hyp != rf_y_pred_hyp).sum()))\n",
    "\n",
    "plot_conf_mtrix(best_rf.__class__.__name__, rf_y_pred_hyp, y_test_hyp)\n",
    "cls_report(best_rf.__class__.__name__, rf_y_pred_hyp, y_test_hyp)"
   ]
  },
  {
   "cell_type": "code",
   "execution_count": 55,
   "metadata": {},
   "outputs": [
    {
     "name": "stdout",
     "output_type": "stream",
     "text": [
      "Best n_estimators: 500\n",
      "Best criterion: gini\n",
      "Best max_depth: 10\n",
      "Best max_features: sqrt\n"
     ]
    }
   ],
   "source": [
    "# Best Hyperparameters Value\n",
    "print('Best n_estimators:', best_rf.best_estimator_.get_params()['n_estimators'])\n",
    "print('Best criterion:', best_rf.best_estimator_.get_params()['criterion'])\n",
    "print('Best max_depth:', best_rf.best_estimator_.get_params()['max_depth'])\n",
    "print('Best max_features:', best_rf.best_estimator_.get_params()['max_features'])"
   ]
  },
  {
   "cell_type": "code",
   "execution_count": 56,
   "metadata": {},
   "outputs": [],
   "source": [
    "training_scores_hyp.append(t_score)\n",
    "accuracies_hyp.append(accu)"
   ]
  },
  {
   "cell_type": "markdown",
   "metadata": {},
   "source": [
    "#### best model"
   ]
  },
  {
   "cell_type": "code",
   "execution_count": 57,
   "metadata": {},
   "outputs": [],
   "source": [
    "best_model = best_rf"
   ]
  },
  {
   "cell_type": "code",
   "execution_count": 58,
   "metadata": {},
   "outputs": [
    {
     "name": "stdout",
     "output_type": "stream",
     "text": [
      "\n"
     ]
    },
    {
     "data": {
      "image/png": "[encoded data removed]",
      "text/plain": [
       "<Figure size 640x480 with 2 Axes>"
      ]
     },
     "metadata": {},
     "output_type": "display_data"
    },
    {
     "name": "stdout",
     "output_type": "stream",
     "text": [
      "GridSearchCV Classification Report :\n",
      "\n",
      "------------------------------------------------------\n",
      "\n",
      "              precision    recall  f1-score   support\n",
      "\n",
      "           0       0.97      0.96      0.97       417\n",
      "           1       0.25      0.28      0.26        18\n",
      "\n",
      "    accuracy                           0.94       435\n",
      "   macro avg       0.61      0.62      0.61       435\n",
      "weighted avg       0.94      0.94      0.94       435\n",
      "\n",
      "------------------------------------------------------\n",
      "\n",
      "Accuracy Score  : 0.936\n",
      "Precision Score : 0.25\n",
      "Recall Score    : 0.278\n",
      "F-Score         : 0.263\n"
     ]
    }
   ],
   "source": [
    "plot_conf_mtrix(best_model.__class__.__name__, rf_y_pred_hyp, y_test_hyp)\n",
    "cls_report(best_model.__class__.__name__, rf_y_pred_hyp, y_test_hyp)"
   ]
  },
  {
   "cell_type": "code",
   "execution_count": null,
   "metadata": {},
   "outputs": [],
   "source": []
  }
 ],
 "metadata": {
  "colab": {
   "provenance": []
  },
  "kernelspec": {
   "display_name": "Python 3 (ipykernel)",
   "language": "python",
   "name": "python3"
  },
  "language_info": {
   "codemirror_mode": {
    "name": "ipython",
    "version": 3
   },
   "file_extension": ".py",
   "mimetype": "text/x-python",
   "name": "python",
   "nbconvert_exporter": "python",
   "pygments_lexer": "ipython3",
   "version": "3.11.4"
  }
 },
 "nbformat": 4,
 "nbformat_minor": 1
}
